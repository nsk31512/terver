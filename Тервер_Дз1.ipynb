{
  "nbformat": 4,
  "nbformat_minor": 0,
  "metadata": {
    "colab": {
      "name": "Тервер  - Дз1.ipynb",
      "provenance": [],
      "collapsed_sections": [],
      "toc_visible": true,
      "authorship_tag": "ABX9TyMyKl/CPS/Aw90hSY1MTIei",
      "include_colab_link": true
    },
    "kernelspec": {
      "name": "python3",
      "display_name": "Python 3"
    },
    "language_info": {
      "name": "python"
    }
  },
  "cells": [
    {
      "cell_type": "markdown",
      "metadata": {
        "id": "view-in-github",
        "colab_type": "text"
      },
      "source": [
        "<a href=\"https://colab.research.google.com/github/nsk31512/terver/blob/hometask1/%D0%A2%D0%B5%D1%80%D0%B2%D0%B5%D1%80_%D0%94%D0%B71.ipynb\" target=\"_parent\"><img src=\"https://colab.research.google.com/assets/colab-badge.svg\" alt=\"Open In Colab\"/></a>"
      ]
    },
    {
      "cell_type": "markdown",
      "source": [
        "#Задача 1"
      ],
      "metadata": {
        "id": "hLm7Uk3JQAGd"
      }
    },
    {
      "cell_type": "markdown",
      "source": [
        "Имеется колода в 52 карты. Найти число возможностей вытянуть из неё 4 карты так, чтобы среди них был хотя бы один туз."
      ],
      "metadata": {
        "id": "2Nzv5Mh4P84l"
      }
    },
    {
      "cell_type": "code",
      "execution_count": 1,
      "metadata": {
        "id": "dt2IAmo1PvGz"
      },
      "outputs": [],
      "source": [
        "import numpy as np"
      ]
    },
    {
      "cell_type": "markdown",
      "source": [
        "Для решения задачи воспользуемся операцией сочетания $С_n^k=\\frac{A_n^k}{P_n^k}=\\frac{n!}{k(n-k)!}$"
      ],
      "metadata": {
        "id": "DxIP6i83RVDF"
      }
    },
    {
      "cell_type": "code",
      "source": [
        "def combination(n, k):\n",
        "  A_n_k = np.math.factorial(n)\n",
        "  P_k = np.math.factorial(k)*np.math.factorial(n-k)\n",
        "  return A_n_k//P_k  "
      ],
      "metadata": {
        "id": "zE78pewZTKd6"
      },
      "execution_count": 5,
      "outputs": []
    },
    {
      "cell_type": "code",
      "source": [
        "result = 0\n",
        "for i in range(1, 5):\n",
        "  result += combination(4, i)*combination(48, 4-i)\n",
        "result"
      ],
      "metadata": {
        "colab": {
          "base_uri": "https://localhost:8080/"
        },
        "id": "vJ88Nu0vYQln",
        "outputId": "19a8bcbd-e1af-429d-9293-22c58e0636fd"
      },
      "execution_count": 20,
      "outputs": [
        {
          "output_type": "execute_result",
          "data": {
            "text/plain": [
              "76145"
            ]
          },
          "metadata": {},
          "execution_count": 20
        }
      ]
    },
    {
      "cell_type": "markdown",
      "source": [
        "Ответ: 76145 возможностей вытянуть 4 карты так, чтобы среди них был хотя бы один туз."
      ],
      "metadata": {
        "id": "Nd5ywVopXvxS"
      }
    },
    {
      "cell_type": "markdown",
      "source": [
        "# Задача 2 и 3"
      ],
      "metadata": {
        "id": "hi905oK7YwqS"
      }
    },
    {
      "cell_type": "markdown",
      "source": [
        "Из 60 вопросов, входящих в экзаменационные билеты, студент знает 50. Случайным образом студент вытягивает 3 вопроса. Какова вероятность, что все выбранные вопросы знакомы студенту? Какова вероятность что два из трёх вопросов знакомы студенту?"
      ],
      "metadata": {
        "id": "QlvuUV0jY275"
      }
    },
    {
      "cell_type": "markdown",
      "source": [
        "Для решения задачи найдем сочетания, при котором мы вытянули 3 билета из знакомых 50 и 3 билета из всех 60."
      ],
      "metadata": {
        "id": "mMomGBRkdZjb"
      }
    },
    {
      "cell_type": "code",
      "source": [
        "C_3_60 = combination(60, 3)\n",
        "C_3_50 = combination(50, 3)\n",
        "result_1 = C_3_50/C_3_60\n",
        "result_1"
      ],
      "metadata": {
        "colab": {
          "base_uri": "https://localhost:8080/"
        },
        "id": "LGaovfl-bCsc",
        "outputId": "5ce45ed4-62e6-4d86-9c01-4482a968839d"
      },
      "execution_count": 19,
      "outputs": [
        {
          "output_type": "execute_result",
          "data": {
            "text/plain": [
              "0.5727644652250146"
            ]
          },
          "metadata": {},
          "execution_count": 19
        }
      ]
    },
    {
      "cell_type": "markdown",
      "source": [
        "Ответ: Вероятность вытянуть 3 знакомых вопроса: 0.5727644652250146"
      ],
      "metadata": {
        "id": "3wVU32-WdC1b"
      }
    },
    {
      "cell_type": "markdown",
      "source": [
        "Для второго случая нужно вычислить комбинацию событий, при котором наступит вероятность вытинуть 2 билета из 50 выученных, и 1 билет из оставшихся 10."
      ],
      "metadata": {
        "id": "yGSvKZvqeHCS"
      }
    },
    {
      "cell_type": "code",
      "source": [
        "C_2_50 = combination(50, 2)*combination(10, 1)\n",
        "result2 = C_2_50/C_3_60\n",
        "result2"
      ],
      "metadata": {
        "colab": {
          "base_uri": "https://localhost:8080/"
        },
        "id": "kAmZX2jUblfT",
        "outputId": "8d5e2d48-9b42-460d-c687-e6068ec4abf9"
      },
      "execution_count": 22,
      "outputs": [
        {
          "output_type": "execute_result",
          "data": {
            "text/plain": [
              "0.35797779076563413"
            ]
          },
          "metadata": {},
          "execution_count": 22
        }
      ]
    },
    {
      "cell_type": "markdown",
      "source": [
        "Ответ: Вероятность вытянуть 2 знакомых вопроса из 3: 0.35797779076563413"
      ],
      "metadata": {
        "id": "9siO04gzdMii"
      }
    },
    {
      "cell_type": "markdown",
      "source": [
        "#Задача 4"
      ],
      "metadata": {
        "id": "TZrWeLCOfDrT"
      }
    },
    {
      "cell_type": "markdown",
      "source": [
        "Допустим, имеется некоторая очень редкая болезнь (поражает 0.1% населения). Вы приходите к врачу, вам делают тест на эту болезнь, и тест оказывается положительным. Врач говорит вам, что этот тест верно выявляет 99% больных этой болезнью и всего лишь в 1% случаев даёт ложный положительный ответ.\n",
        "\n",
        "Вопрос: какова вероятность, что вы действительно больны ей?"
      ],
      "metadata": {
        "id": "xNdIItN9fGwL"
      }
    },
    {
      "cell_type": "code",
      "source": [
        "#Вероятность иметь болезнь\n",
        "p_H1 = 0.001\n",
        "\n",
        "#Вероятность обратного события\n",
        "p_H2 = 1-p_H1\n",
        "p_H2"
      ],
      "metadata": {
        "colab": {
          "base_uri": "https://localhost:8080/"
        },
        "id": "pI76I6Bxcngu",
        "outputId": "e7122bc0-357f-4e90-d46b-4700d157f9ce"
      },
      "execution_count": 25,
      "outputs": [
        {
          "output_type": "execute_result",
          "data": {
            "text/plain": [
              "0.999"
            ]
          },
          "metadata": {},
          "execution_count": 25
        }
      ]
    },
    {
      "cell_type": "code",
      "source": [
        "#Вероятность положительного теста\n",
        "p_A_H1 = 0.99\n",
        "\n",
        "#Вероятность ложноположительного результата\n",
        "p_A_H2 = 0.01"
      ],
      "metadata": {
        "id": "7oXm6iJYhE5x"
      },
      "execution_count": 27,
      "outputs": []
    },
    {
      "cell_type": "code",
      "source": [
        "#Вероятность наступления положительного события\n",
        "p_A = p_A_H1*p_H1+p_A_H2*p_H2\n",
        "p_A"
      ],
      "metadata": {
        "colab": {
          "base_uri": "https://localhost:8080/"
        },
        "id": "6XM31sICjhMh",
        "outputId": "598633d6-3d02-48b8-ae1c-fe821cee79d5"
      },
      "execution_count": 28,
      "outputs": [
        {
          "output_type": "execute_result",
          "data": {
            "text/plain": [
              "0.01098"
            ]
          },
          "metadata": {},
          "execution_count": 28
        }
      ]
    },
    {
      "cell_type": "code",
      "source": [
        "#Вероятность иметь болезнь\n",
        "p_H1_A = p_A_H1*p_H1/p_A\n",
        "p_H1_A"
      ],
      "metadata": {
        "colab": {
          "base_uri": "https://localhost:8080/"
        },
        "id": "lloBrF0wj1_j",
        "outputId": "9366f874-0751-413e-8e52-8395e9bdaa1f"
      },
      "execution_count": 29,
      "outputs": [
        {
          "output_type": "execute_result",
          "data": {
            "text/plain": [
              "0.09016393442622951"
            ]
          },
          "metadata": {},
          "execution_count": 29
        }
      ]
    }
  ]
}