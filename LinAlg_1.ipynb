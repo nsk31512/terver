{
  "nbformat": 4,
  "nbformat_minor": 0,
  "metadata": {
    "colab": {
      "name": "LinAlg_1.ipynb",
      "provenance": [],
      "authorship_tag": "ABX9TyPb1HY9+7vXxAWi0lBbaX6c",
      "include_colab_link": true
    },
    "kernelspec": {
      "name": "python3",
      "display_name": "Python 3"
    },
    "language_info": {
      "name": "python"
    }
  },
  "cells": [
    {
      "cell_type": "markdown",
      "metadata": {
        "id": "view-in-github",
        "colab_type": "text"
      },
      "source": [
        "<a href=\"https://colab.research.google.com/github/nsk31512/terver/blob/linalg/LinAlg_1.ipynb\" target=\"_parent\"><img src=\"https://colab.research.google.com/assets/colab-badge.svg\" alt=\"Open In Colab\"/></a>"
      ]
    },
    {
      "cell_type": "markdown",
      "source": [
        "#Часть II. Задача 4"
      ],
      "metadata": {
        "id": "PbGSLdoxH1T8"
      }
    },
    {
      "cell_type": "code",
      "execution_count": 1,
      "metadata": {
        "id": "2GisEUOKGt15"
      },
      "outputs": [],
      "source": [
        "import numpy as np"
      ]
    },
    {
      "cell_type": "code",
      "source": [
        "#а)\n",
        "a = np.array([1, 0, 0])\n",
        "b = np.array([0, 0, 1])\n",
        "np.dot(a, b), np.dot(a, a)"
      ],
      "metadata": {
        "colab": {
          "base_uri": "https://localhost:8080/"
        },
        "id": "D5xTQO7wHntI",
        "outputId": "8cf0214c-9b9f-48dd-c4cd-38b18742450f"
      },
      "execution_count": 5,
      "outputs": [
        {
          "output_type": "execute_result",
          "data": {
            "text/plain": [
              "(0, 1)"
            ]
          },
          "metadata": {},
          "execution_count": 5
        }
      ]
    },
    {
      "cell_type": "markdown",
      "source": [
        "Векторы образуют ортонормированный базис\n",
        "\n",
        "---\n",
        "\n"
      ],
      "metadata": {
        "id": "IVrTXb_-L-xj"
      }
    },
    {
      "cell_type": "code",
      "source": [
        "#б)\n",
        "a = np.array([1/np.sqrt(2), -1/np.sqrt(2), 0])\n",
        "b = np.array([1/np.sqrt(2), 1/np.sqrt(2), 0])\n",
        "c = np.array([0, 0, 1])\n",
        "np.dot(a, b), np.dot(a, a), np.dot(b, c), np.dot(b, b), np.dot(a, c), np.dot(c, c)\n"
      ],
      "metadata": {
        "colab": {
          "base_uri": "https://localhost:8080/"
        },
        "id": "VP-yo9YrJhxx",
        "outputId": "7844039f-419d-49b5-b5cc-241805eb85d9"
      },
      "execution_count": 11,
      "outputs": [
        {
          "output_type": "execute_result",
          "data": {
            "text/plain": [
              "(0.0, 0.9999999999999998, 0.0, 0.9999999999999998, 0.0, 1)"
            ]
          },
          "metadata": {},
          "execution_count": 11
        }
      ]
    },
    {
      "cell_type": "markdown",
      "source": [
        "Векторы образуют ортонормированный базис\n"
      ],
      "metadata": {
        "id": "zB2ofuV2M56T"
      }
    },
    {
      "cell_type": "code",
      "source": [
        "#в)\n",
        "a = np.array([1/2, -1/2, 0])\n",
        "b = np.array([0, 1/2, 1/2])\n",
        "c = np.array([0, 0, 1])\n",
        "np.dot(a, b), np.dot(a, a), np.dot(b, c), np.dot(b, b), np.dot(a, c), np.dot(c, c)"
      ],
      "metadata": {
        "colab": {
          "base_uri": "https://localhost:8080/"
        },
        "id": "REwSPTzbMsfs",
        "outputId": "d9e58595-fdd7-4144-d2ca-007b04ff82a2"
      },
      "execution_count": 12,
      "outputs": [
        {
          "output_type": "execute_result",
          "data": {
            "text/plain": [
              "(-0.25, 0.5, 0.5, 0.5, 0.0, 1)"
            ]
          },
          "metadata": {},
          "execution_count": 12
        }
      ]
    },
    {
      "cell_type": "markdown",
      "source": [
        "Векторы не образую ортонормированный базис"
      ],
      "metadata": {
        "id": "a1ANbxenNHID"
      }
    },
    {
      "cell_type": "code",
      "source": [
        "#в)\n",
        "a = np.array([1, 0, 0])\n",
        "b = np.array([0, 1, 0])\n",
        "c = np.array([0, 0, 1])\n",
        "np.dot(a, b), np.dot(a, a), np.dot(b, c), np.dot(b, b), np.dot(a, c), np.dot(c, c)"
      ],
      "metadata": {
        "colab": {
          "base_uri": "https://localhost:8080/"
        },
        "id": "42oXdgt2NKPv",
        "outputId": "239b9257-3ee2-4933-d66e-9d72a386c3a2"
      },
      "execution_count": 13,
      "outputs": [
        {
          "output_type": "execute_result",
          "data": {
            "text/plain": [
              "(0, 1, 0, 1, 0, 1)"
            ]
          },
          "metadata": {},
          "execution_count": 13
        }
      ]
    },
    {
      "cell_type": "markdown",
      "source": [
        "Векторы образуют ортонормированный базис"
      ],
      "metadata": {
        "id": "LYgyAK2uNUb7"
      }
    }
  ]
}