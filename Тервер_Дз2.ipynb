{
  "nbformat": 4,
  "nbformat_minor": 0,
  "metadata": {
    "colab": {
      "name": "Тервер - Дз2.ipynb",
      "provenance": [],
      "collapsed_sections": [],
      "authorship_tag": "ABX9TyPLtoFjo023GpjCdIDa9Na7",
      "include_colab_link": true
    },
    "kernelspec": {
      "name": "python3",
      "display_name": "Python 3"
    },
    "language_info": {
      "name": "python"
    }
  },
  "cells": [
    {
      "cell_type": "markdown",
      "metadata": {
        "id": "view-in-github",
        "colab_type": "text"
      },
      "source": [
        "<a href=\"https://colab.research.google.com/github/nsk31512/terver/blob/hometask2/%D0%A2%D0%B5%D1%80%D0%B2%D0%B5%D1%80_%D0%94%D0%B72.ipynb\" target=\"_parent\"><img src=\"https://colab.research.google.com/assets/colab-badge.svg\" alt=\"Open In Colab\"/></a>"
      ]
    },
    {
      "cell_type": "markdown",
      "source": [
        "# Задачи 1 и 2\n",
        "Контрольная работа состоит из пяти вопросов. На каждый вопрос приведено четыре варианта ответа, один из которых правильный. Случайная величина X задаёт число правильных ответов при простом угадывании. Найдите математическое ожидание данной случайной величины. Найдите дисперсию случайной величины X.\n",
        "\n",
        "Подсказка: постройте закон распределения случайной величины X."
      ],
      "metadata": {
        "id": "IiEKHohx7DFN"
      }
    },
    {
      "cell_type": "code",
      "source": [
        "import numpy as np\n",
        "import matplotlib.pyplot as plt"
      ],
      "metadata": {
        "id": "Pi8j1WmP9CQE"
      },
      "execution_count": 124,
      "outputs": []
    },
    {
      "cell_type": "code",
      "source": [
        "def combination(n, k):\n",
        "  #функция Сочетания\n",
        "\n",
        "  A_n_k = np.math.factorial(n)\n",
        "  P_k = np.math.factorial(k)*np.math.factorial(n-k)\n",
        "  return A_n_k//P_k  "
      ],
      "metadata": {
        "id": "TiLBiyzz8Ggs"
      },
      "execution_count": 125,
      "outputs": []
    },
    {
      "cell_type": "markdown",
      "source": [
        "Принимаемые значения случайной величины $x_1=0, x_2=1, x_3=2, x_4=3, x_5=4, x_6=5$"
      ],
      "metadata": {
        "id": "YWIWsiDy8eh_"
      }
    },
    {
      "cell_type": "code",
      "source": [
        "#всего вопросов\n",
        "num_of_questions = 4*5\n",
        "num_of_questions"
      ],
      "metadata": {
        "colab": {
          "base_uri": "https://localhost:8080/"
        },
        "id": "3u6Be2hJ9-G0",
        "outputId": "0e3d6ee4-556e-4893-acc2-cb9e00c51224"
      },
      "execution_count": 126,
      "outputs": [
        {
          "output_type": "execute_result",
          "data": {
            "text/plain": [
              "20"
            ]
          },
          "metadata": {},
          "execution_count": 126
        }
      ]
    },
    {
      "cell_type": "code",
      "execution_count": 127,
      "metadata": {
        "id": "Z44b8KG26t-I",
        "colab": {
          "base_uri": "https://localhost:8080/"
        },
        "outputId": "a3020884-27cf-454b-bf54-4b38805aec70"
      },
      "outputs": [
        {
          "output_type": "execute_result",
          "data": {
            "text/plain": [
              "15504"
            ]
          },
          "metadata": {},
          "execution_count": 127
        }
      ],
      "source": [
        "#общее число способов дать ответ на вопрос\n",
        "C4_20 = combination(20, 5)\n",
        "C4_20"
      ]
    },
    {
      "cell_type": "code",
      "source": [
        "x_list = np.array([el for el in range(6)])\n",
        "#Рассчитаем вероятности дать правильный ответ и сведем ответы в словарь\n",
        "probabilities = []\n",
        "for i in x_list:\n",
        "  P_i = combination(5, i)*combination(15, 15-i)/C4_20\n",
        "  probabilities.append(P_i)\n",
        "probabilities = np.array(probabilities)\n",
        "probabilities"
      ],
      "metadata": {
        "colab": {
          "base_uri": "https://localhost:8080/"
        },
        "id": "cAt69KMHAfik",
        "outputId": "3cb35b6e-c019-4aa0-927f-0270a2327250"
      },
      "execution_count": 128,
      "outputs": [
        {
          "output_type": "execute_result",
          "data": {
            "text/plain": [
              "array([6.44994840e-05, 4.83746130e-03, 6.77244582e-02, 2.93472652e-01,\n",
              "       4.40208978e-01, 1.93691950e-01])"
            ]
          },
          "metadata": {},
          "execution_count": 128
        }
      ]
    },
    {
      "cell_type": "code",
      "source": [
        "#Рассчитаем мат.ожидание\n",
        "M_X = (x_list * probabilities).sum()\n",
        "M_X"
      ],
      "metadata": {
        "colab": {
          "base_uri": "https://localhost:8080/"
        },
        "id": "q2BPiBXOAUUP",
        "outputId": "8973f880-9b3c-44d6-8fb8-b60a7730a632"
      },
      "execution_count": 129,
      "outputs": [
        {
          "output_type": "execute_result",
          "data": {
            "text/plain": [
              "3.7499999999999996"
            ]
          },
          "metadata": {},
          "execution_count": 129
        }
      ]
    },
    {
      "cell_type": "code",
      "source": [
        "M_X = 3.75"
      ],
      "metadata": {
        "id": "oUXwo1HzBrPT"
      },
      "execution_count": 130,
      "outputs": []
    },
    {
      "cell_type": "markdown",
      "source": [
        "рассчитаем дисперсию"
      ],
      "metadata": {
        "id": "WGOk-3KQDNlU"
      }
    },
    {
      "cell_type": "code",
      "source": [
        "y_values = x_list - M_X\n",
        "y_values"
      ],
      "metadata": {
        "colab": {
          "base_uri": "https://localhost:8080/"
        },
        "id": "04by9N9eCIrH",
        "outputId": "a6cedac9-0f8f-4ae5-8cb4-b187da7987e2"
      },
      "execution_count": 131,
      "outputs": [
        {
          "output_type": "execute_result",
          "data": {
            "text/plain": [
              "array([-3.75, -2.75, -1.75, -0.75,  0.25,  1.25])"
            ]
          },
          "metadata": {},
          "execution_count": 131
        }
      ]
    },
    {
      "cell_type": "code",
      "source": [
        "z_values = y_values ** 2\n",
        "z_values"
      ],
      "metadata": {
        "colab": {
          "base_uri": "https://localhost:8080/"
        },
        "id": "2s1wBuw7C88U",
        "outputId": "c0744598-ba42-4306-8182-4b6dab548cc3"
      },
      "execution_count": 132,
      "outputs": [
        {
          "output_type": "execute_result",
          "data": {
            "text/plain": [
              "array([14.0625,  7.5625,  3.0625,  0.5625,  0.0625,  1.5625])"
            ]
          },
          "metadata": {},
          "execution_count": 132
        }
      ]
    },
    {
      "cell_type": "code",
      "source": [
        "D_X = (z_values * probabilities).sum()\n",
        "D_X"
      ],
      "metadata": {
        "colab": {
          "base_uri": "https://localhost:8080/"
        },
        "id": "DWp_k6NRDSit",
        "outputId": "84081c0c-dbbb-4a50-88c1-66edffcc8444"
      },
      "execution_count": 133,
      "outputs": [
        {
          "output_type": "execute_result",
          "data": {
            "text/plain": [
              "0.7401315789473684"
            ]
          },
          "metadata": {},
          "execution_count": 133
        }
      ]
    },
    {
      "cell_type": "code",
      "source": [
        "plt.plot(probabilities)"
      ],
      "metadata": {
        "colab": {
          "base_uri": "https://localhost:8080/",
          "height": 282
        },
        "id": "mn8ryFTWD7ht",
        "outputId": "53e2806b-b4ce-48f7-b77f-9850a90b8f88"
      },
      "execution_count": 134,
      "outputs": [
        {
          "output_type": "execute_result",
          "data": {
            "text/plain": [
              "[<matplotlib.lines.Line2D at 0x7f714106cf50>]"
            ]
          },
          "metadata": {},
          "execution_count": 134
        },
        {
          "output_type": "display_data",
          "data": {
            "image/png": "[encoded data removed]",
            "text/plain": [
              "<Figure size 432x288 with 1 Axes>"
            ]
          },
          "metadata": {
            "needs_background": "light"
          }
        }
      ]
    },
    {
      "cell_type": "markdown",
      "source": [
        "# Задача 3\n",
        "Пользователь получает в среднем 10 писем со спамом на свой почтовый ящик за сутки. Найти число N, такое, что с вероятностью 0.95 пользователь получит не более N писем со спамом за текущий день."
      ],
      "metadata": {
        "id": "Yt2ySfnjEb5E"
      }
    },
    {
      "cell_type": "code",
      "source": [
        "def poisson_proba(k: int, lambda_: float):\n",
        "  return (lambda_ ** k) * (np.exp(-lambda_)) / np.math.factorial(k)\n"
      ],
      "metadata": {
        "id": "86GCejzoFHJE"
      },
      "execution_count": 135,
      "outputs": []
    },
    {
      "cell_type": "code",
      "source": [
        "#Применим формулу Пуассона\n",
        "P_10 = poisson_proba(10, 10)\n",
        "P_10"
      ],
      "metadata": {
        "colab": {
          "base_uri": "https://localhost:8080/"
        },
        "id": "NFK7E_C4EPGu",
        "outputId": "96b86fe2-fc41-4cb7-bfa6-20498911342a"
      },
      "execution_count": 136,
      "outputs": [
        {
          "output_type": "execute_result",
          "data": {
            "text/plain": [
              "0.1251100357211333"
            ]
          },
          "metadata": {},
          "execution_count": 136
        }
      ]
    },
    {
      "cell_type": "markdown",
      "source": [
        "Таким образом, вероятность получить ровно 10 писем со спамом составляет 0,125...\n"
      ],
      "metadata": {
        "id": "TRe3j9V7GEqr"
      }
    },
    {
      "cell_type": "code",
      "source": [
        "sum_of_p = 0\n",
        "count_of_letters = 0\n",
        "while True:  \n",
        "  P_i = poisson_proba(count_of_letters, 10)\n",
        "  sum_of_p += P_i  \n",
        "  if sum_of_p >= 0.95:    \n",
        "    break\n",
        "  count_of_letters += 1\n",
        "count_of_letters"
      ],
      "metadata": {
        "colab": {
          "base_uri": "https://localhost:8080/"
        },
        "id": "uHzhIHMmEwlD",
        "outputId": "a50f0c12-f9ac-4cdb-ec31-d08e11ae41d1"
      },
      "execution_count": 137,
      "outputs": [
        {
          "output_type": "execute_result",
          "data": {
            "text/plain": [
              "15"
            ]
          },
          "metadata": {},
          "execution_count": 137
        }
      ]
    },
    {
      "cell_type": "code",
      "source": [
        "#проверка\n",
        "print(poisson_proba(15, 10))\n",
        "print(poisson_proba(14, 10))"
      ],
      "metadata": {
        "colab": {
          "base_uri": "https://localhost:8080/"
        },
        "id": "PRQZraO0HY0A",
        "outputId": "3d764fb5-9605-41c4-f0b9-f61dcea8f1b2"
      },
      "execution_count": 138,
      "outputs": [
        {
          "output_type": "stream",
          "name": "stdout",
          "text": [
            "0.03471806963068413\n",
            "0.05207710444602619\n"
          ]
        }
      ]
    },
    {
      "cell_type": "markdown",
      "source": [
        "Получается, что с вероятностью 95% пользователь получит не более 15 писем"
      ],
      "metadata": {
        "id": "yspw3nM5ITjc"
      }
    },
    {
      "cell_type": "markdown",
      "source": [
        "# Задача 4\n",
        "Производятся выстрелы по мишени. Вероятность попадания в мишень при одном выстреле равна 0.01. Сколько выстрелов нужно сделать чтобы быть уверенным с вероятностью 0.9, что хотя бы 6 раз будет совершено попадание?\n",
        "\n",
        "Подсказка: 1) \"Вероятность попасть k раз при n выстрелах\" - на какое распределение это похоже? 2) А если нам нужна вероятность P(X >= k), а не P(X = k)? 3) Здесь предстоит немножко покодить."
      ],
      "metadata": {
        "id": "hA-kLwz_IhXk"
      }
    },
    {
      "cell_type": "markdown",
      "source": [
        "Параметр лямбда в распределении Пуассона при p=0.01 равен 1(n=100)."
      ],
      "metadata": {
        "id": "OWX2BHigbpkF"
      }
    },
    {
      "cell_type": "code",
      "source": [
        "poisson_proba(6, 1)\n"
      ],
      "metadata": {
        "colab": {
          "base_uri": "https://localhost:8080/"
        },
        "id": "QBm-V1ipcXAt",
        "outputId": "043c27c0-4ab2-4137-affd-f38620dcddff"
      },
      "execution_count": 139,
      "outputs": [
        {
          "output_type": "execute_result",
          "data": {
            "text/plain": [
              "0.0005109436682936699"
            ]
          },
          "metadata": {},
          "execution_count": 139
        }
      ]
    },
    {
      "cell_type": "code",
      "source": [
        "combination(1, 1)*(0.01 ** 1) * ((1-0.01)**(1 - 1))  \n"
      ],
      "metadata": {
        "colab": {
          "base_uri": "https://localhost:8080/"
        },
        "id": "c5vfC6yZdP0d",
        "outputId": "d8ff7669-dd2d-4fea-a737-e3ffc216d8a8"
      },
      "execution_count": 140,
      "outputs": [
        {
          "output_type": "execute_result",
          "data": {
            "text/plain": [
              "0.01"
            ]
          },
          "metadata": {},
          "execution_count": 140
        }
      ]
    },
    {
      "cell_type": "code",
      "source": [
        "combination(100, 6)"
      ],
      "metadata": {
        "colab": {
          "base_uri": "https://localhost:8080/"
        },
        "id": "pRRsZw4LesO2",
        "outputId": "9ca1caa1-f281-482f-97b1-bee5478ed78c"
      },
      "execution_count": 141,
      "outputs": [
        {
          "output_type": "execute_result",
          "data": {
            "text/plain": [
              "1192052400"
            ]
          },
          "metadata": {},
          "execution_count": 141
        }
      ]
    },
    {
      "cell_type": "code",
      "source": [
        "#Вероятность попадания меньше 6 раз должна быть менее 0,1\n",
        "P_less_6 = 1\n",
        "\n",
        "total_shots = 1\n",
        "while True:\n",
        "  for i in range(1, total_shots+1): #счетчик попаданий в цель\n",
        "    P_less_6 -= combination(total_shots, i)*(0.01 ** i) * ((1-0.01)**(total_shots - i))\n",
        "    total_shots += 1\n",
        "    if P_less_6 <= 0.1:\n",
        "      break\n",
        "  if P_less_6 <= 0.1:\n",
        "    break\n",
        "P_less_6, total_shots"
      ],
      "metadata": {
        "colab": {
          "base_uri": "https://localhost:8080/"
        },
        "id": "kLXMOP7cbKL1",
        "outputId": "db7c3926-0e5e-49b9-de18-1a66fcbd16b1"
      },
      "execution_count": 152,
      "outputs": [
        {
          "output_type": "execute_result",
          "data": {
            "text/plain": [
              "(0.08444548982373451, 65)"
            ]
          },
          "metadata": {},
          "execution_count": 152
        }
      ]
    },
    {
      "cell_type": "markdown",
      "source": [
        "Таким образом, после 65 выстрелов можно с вероятностью 0,9 сказать, что стрелок попадет хотя бы 6 раз"
      ],
      "metadata": {
        "id": "NR3fvZENmOrO"
      }
    },
    {
      "cell_type": "code",
      "source": [
        ""
      ],
      "metadata": {
        "id": "dmUuD-etVGKe"
      },
      "execution_count": 149,
      "outputs": []
    }
  ]
}