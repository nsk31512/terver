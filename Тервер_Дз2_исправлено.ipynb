{
  "nbformat": 4,
  "nbformat_minor": 0,
  "metadata": {
    "colab": {
      "name": "Тервер - Дз2 исправлено.ipynb",
      "provenance": [],
      "collapsed_sections": [],
      "authorship_tag": "ABX9TyP1qWexxXCkuKBG9Zde1hzC",
      "include_colab_link": true
    },
    "kernelspec": {
      "name": "python3",
      "display_name": "Python 3"
    },
    "language_info": {
      "name": "python"
    }
  },
  "cells": [
    {
      "cell_type": "markdown",
      "metadata": {
        "id": "view-in-github",
        "colab_type": "text"
      },
      "source": [
        "<a href=\"https://colab.research.google.com/github/nsk31512/terver/blob/hometask2/%D0%A2%D0%B5%D1%80%D0%B2%D0%B5%D1%80_%D0%94%D0%B72_%D0%B8%D1%81%D0%BF%D1%80%D0%B0%D0%B2%D0%BB%D0%B5%D0%BD%D0%BE.ipynb\" target=\"_parent\"><img src=\"https://colab.research.google.com/assets/colab-badge.svg\" alt=\"Open In Colab\"/></a>"
      ]
    },
    {
      "cell_type": "markdown",
      "source": [
        "# Задачи 1 и 2\n",
        "Контрольная работа состоит из пяти вопросов. На каждый вопрос приведено четыре варианта ответа, один из которых правильный. Случайная величина X задаёт число правильных ответов при простом угадывании. Найдите математическое ожидание данной случайной величины. Найдите дисперсию случайной величины X.\n",
        "\n",
        "Подсказка: постройте закон распределения случайной величины X."
      ],
      "metadata": {
        "id": "IiEKHohx7DFN"
      }
    },
    {
      "cell_type": "code",
      "source": [
        "import numpy as np\n",
        "import matplotlib.pyplot as plt"
      ],
      "metadata": {
        "id": "Pi8j1WmP9CQE"
      },
      "execution_count": 1,
      "outputs": []
    },
    {
      "cell_type": "code",
      "source": [
        "def combination(n, k):\n",
        "  #функция Сочетания\n",
        "\n",
        "  A_n_k = np.math.factorial(n)\n",
        "  P_k = np.math.factorial(k)*np.math.factorial(n-k)\n",
        "  return A_n_k//P_k  "
      ],
      "metadata": {
        "id": "TiLBiyzz8Ggs"
      },
      "execution_count": 2,
      "outputs": []
    },
    {
      "cell_type": "markdown",
      "source": [
        "Принимаемые значения случайной величины $x_1=0, x_2=1, x_3=2, x_4=3, x_5=4, x_6=5$"
      ],
      "metadata": {
        "id": "YWIWsiDy8eh_"
      }
    },
    {
      "cell_type": "code",
      "source": [
        "x_list = np.array([el for el in range(6)])\n",
        "#Рассчитаем вероятности дать правильный ответ и сведем ответы в словарь\n",
        "probabilities = []\n",
        "for i in x_list:\n",
        "  P_i = combination(5, i)*(1/4 ** i) * ((1-1/4)**(5 - i))\n",
        "  probabilities.append(P_i)\n",
        "probabilities = np.array(probabilities)\n",
        "probabilities"
      ],
      "metadata": {
        "colab": {
          "base_uri": "https://localhost:8080/"
        },
        "id": "cAt69KMHAfik",
        "outputId": "f571620d-d470-4086-b25c-bcfe10c6400d"
      },
      "execution_count": 3,
      "outputs": [
        {
          "output_type": "execute_result",
          "data": {
            "text/plain": [
              "array([0.23730469, 0.39550781, 0.26367188, 0.08789062, 0.01464844,\n",
              "       0.00097656])"
            ]
          },
          "metadata": {},
          "execution_count": 3
        }
      ]
    },
    {
      "cell_type": "code",
      "source": [
        "#Рассчитаем мат.ожидание\n",
        "M_X = (x_list * probabilities).sum()\n",
        "M_X"
      ],
      "metadata": {
        "colab": {
          "base_uri": "https://localhost:8080/"
        },
        "id": "q2BPiBXOAUUP",
        "outputId": "54c97705-43a1-4dce-861b-508a973b83be"
      },
      "execution_count": 4,
      "outputs": [
        {
          "output_type": "execute_result",
          "data": {
            "text/plain": [
              "1.25"
            ]
          },
          "metadata": {},
          "execution_count": 4
        }
      ]
    },
    {
      "cell_type": "code",
      "source": [
        "M_X = 1.25"
      ],
      "metadata": {
        "id": "oUXwo1HzBrPT"
      },
      "execution_count": 5,
      "outputs": []
    },
    {
      "cell_type": "markdown",
      "source": [
        "рассчитаем дисперсию"
      ],
      "metadata": {
        "id": "WGOk-3KQDNlU"
      }
    },
    {
      "cell_type": "code",
      "source": [
        "y_values = x_list - M_X\n",
        "y_values"
      ],
      "metadata": {
        "colab": {
          "base_uri": "https://localhost:8080/"
        },
        "id": "04by9N9eCIrH",
        "outputId": "6f6e8e98-b029-4dc3-b580-2d70b03f0620"
      },
      "execution_count": 6,
      "outputs": [
        {
          "output_type": "execute_result",
          "data": {
            "text/plain": [
              "array([-1.25, -0.25,  0.75,  1.75,  2.75,  3.75])"
            ]
          },
          "metadata": {},
          "execution_count": 6
        }
      ]
    },
    {
      "cell_type": "code",
      "source": [
        "z_values = y_values ** 2\n",
        "z_values"
      ],
      "metadata": {
        "colab": {
          "base_uri": "https://localhost:8080/"
        },
        "id": "2s1wBuw7C88U",
        "outputId": "4416ff42-daac-4dbe-adfc-84141e374e1e"
      },
      "execution_count": 7,
      "outputs": [
        {
          "output_type": "execute_result",
          "data": {
            "text/plain": [
              "array([ 1.5625,  0.0625,  0.5625,  3.0625,  7.5625, 14.0625])"
            ]
          },
          "metadata": {},
          "execution_count": 7
        }
      ]
    },
    {
      "cell_type": "code",
      "source": [
        "D_X = (z_values * probabilities).sum()\n",
        "D_X"
      ],
      "metadata": {
        "colab": {
          "base_uri": "https://localhost:8080/"
        },
        "id": "DWp_k6NRDSit",
        "outputId": "59b3320f-b228-47a5-e708-11ea16838e8e"
      },
      "execution_count": 8,
      "outputs": [
        {
          "output_type": "execute_result",
          "data": {
            "text/plain": [
              "0.9375"
            ]
          },
          "metadata": {},
          "execution_count": 8
        }
      ]
    },
    {
      "cell_type": "code",
      "source": [
        "plt.plot(probabilities)"
      ],
      "metadata": {
        "colab": {
          "base_uri": "https://localhost:8080/",
          "height": 282
        },
        "id": "mn8ryFTWD7ht",
        "outputId": "19594f19-3e3a-48c2-94db-e30527439242"
      },
      "execution_count": 9,
      "outputs": [
        {
          "output_type": "execute_result",
          "data": {
            "text/plain": [
              "[<matplotlib.lines.Line2D at 0x7f6dee6fe350>]"
            ]
          },
          "metadata": {},
          "execution_count": 9
        },
        {
          "output_type": "display_data",
          "data": {
            "image/png": "[encoded data removed]",
            "text/plain": [
              "<Figure size 432x288 with 1 Axes>"
            ]
          },
          "metadata": {
            "needs_background": "light"
          }
        }
      ]
    },
    {
      "cell_type": "markdown",
      "source": [
        "# Задача 3\n",
        "Пользователь получает в среднем 10 писем со спамом на свой почтовый ящик за сутки. Найти число N, такое, что с вероятностью 0.95 пользователь получит не более N писем со спамом за текущий день."
      ],
      "metadata": {
        "id": "Yt2ySfnjEb5E"
      }
    },
    {
      "cell_type": "code",
      "source": [
        "def poisson_proba(k: int, lambda_: float):\n",
        "  return (lambda_ ** k) * (np.exp(-lambda_)) / np.math.factorial(k)\n"
      ],
      "metadata": {
        "id": "86GCejzoFHJE"
      },
      "execution_count": 10,
      "outputs": []
    },
    {
      "cell_type": "code",
      "source": [
        "#Применим формулу Пуассона\n",
        "P_10 = poisson_proba(10, 10)\n",
        "P_10"
      ],
      "metadata": {
        "colab": {
          "base_uri": "https://localhost:8080/"
        },
        "id": "NFK7E_C4EPGu",
        "outputId": "08bd9673-c7ab-4482-8d1d-9231a0c33284"
      },
      "execution_count": 11,
      "outputs": [
        {
          "output_type": "execute_result",
          "data": {
            "text/plain": [
              "0.1251100357211333"
            ]
          },
          "metadata": {},
          "execution_count": 11
        }
      ]
    },
    {
      "cell_type": "markdown",
      "source": [
        "Таким образом, вероятность получить ровно 10 писем со спамом составляет 0,125...\n"
      ],
      "metadata": {
        "id": "TRe3j9V7GEqr"
      }
    },
    {
      "cell_type": "code",
      "source": [
        "sum_of_p = 0\n",
        "count_of_letters = 0\n",
        "while True:  \n",
        "  P_i = poisson_proba(count_of_letters, 10)\n",
        "  sum_of_p += P_i  \n",
        "  if sum_of_p >= 0.95:    \n",
        "    break\n",
        "  count_of_letters += 1\n",
        "count_of_letters"
      ],
      "metadata": {
        "colab": {
          "base_uri": "https://localhost:8080/"
        },
        "id": "uHzhIHMmEwlD",
        "outputId": "9330030e-0500-42e7-ea0d-17dc294275c9"
      },
      "execution_count": 12,
      "outputs": [
        {
          "output_type": "execute_result",
          "data": {
            "text/plain": [
              "15"
            ]
          },
          "metadata": {},
          "execution_count": 12
        }
      ]
    },
    {
      "cell_type": "code",
      "source": [
        "#проверка\n",
        "print(poisson_proba(15, 10))\n",
        "print(poisson_proba(14, 10))"
      ],
      "metadata": {
        "colab": {
          "base_uri": "https://localhost:8080/"
        },
        "id": "PRQZraO0HY0A",
        "outputId": "a314a1db-a7c4-4782-ecd1-3759c3ea643d"
      },
      "execution_count": 13,
      "outputs": [
        {
          "output_type": "stream",
          "name": "stdout",
          "text": [
            "0.03471806963068413\n",
            "0.05207710444602619\n"
          ]
        }
      ]
    },
    {
      "cell_type": "markdown",
      "source": [
        "Получается, что с вероятностью 95% пользователь получит не более 15 писем"
      ],
      "metadata": {
        "id": "yspw3nM5ITjc"
      }
    },
    {
      "cell_type": "markdown",
      "source": [
        "# Задача 4\n",
        "Производятся выстрелы по мишени. Вероятность попадания в мишень при одном выстреле равна 0.01. Сколько выстрелов нужно сделать чтобы быть уверенным с вероятностью 0.9, что хотя бы 6 раз будет совершено попадание?\n",
        "\n",
        "Подсказка: 1) \"Вероятность попасть k раз при n выстрелах\" - на какое распределение это похоже? 2) А если нам нужна вероятность P(X >= k), а не P(X = k)? 3) Здесь предстоит немножко покодить."
      ],
      "metadata": {
        "id": "hA-kLwz_IhXk"
      }
    },
    {
      "cell_type": "code",
      "source": [
        "probabilities = []\n",
        "iter_one = 0\n",
        "while True:\n",
        "  total_shots = 100\n",
        "  iter_one += 1\n",
        "  probabilities = []\n",
        "  total_shots += iter_one\n",
        "  for i in range(1, 6):\n",
        "    P_i = combination(total_shots, i)*(0.01 ** i) * ((1-0.01)**(total_shots - i))\n",
        "    probabilities.append(P_i)\n",
        "  probabilities = np.array(probabilities)\n",
        "  sum_prob = probabilities.sum()\n",
        "  if sum_prob <= 0.1:\n",
        "    print(1-sum_prob, total_shots)\n",
        "    break\n",
        "  else:\n",
        "    continue\n"
      ],
      "metadata": {
        "colab": {
          "base_uri": "https://localhost:8080/"
        },
        "id": "KEjPycXVEkrV",
        "outputId": "b65cf6da-4b49-46ae-c296-7096f2363630"
      },
      "execution_count": 38,
      "outputs": [
        {
          "output_type": "stream",
          "name": "stdout",
          "text": [
            "0.9004535339724555 926\n"
          ]
        }
      ]
    },
    {
      "cell_type": "markdown",
      "source": [
        "Таким образом, после 926 выстрелов можно с вероятностью 0,9 сказать, что стрелок попадет хотя бы 6 раз"
      ],
      "metadata": {
        "id": "hT1mLXYOIvoz"
      }
    }
  ]
}