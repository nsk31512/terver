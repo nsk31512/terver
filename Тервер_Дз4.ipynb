{
  "nbformat": 4,
  "nbformat_minor": 0,
  "metadata": {
    "colab": {
      "name": "Тервер - Дз4.ipynb",
      "provenance": [],
      "collapsed_sections": [],
      "authorship_tag": "ABX9TyN9FJsgwB079IKilURqFY4J",
      "include_colab_link": true
    },
    "kernelspec": {
      "name": "python3",
      "display_name": "Python 3"
    },
    "language_info": {
      "name": "python"
    }
  },
  "cells": [
    {
      "cell_type": "markdown",
      "metadata": {
        "id": "view-in-github",
        "colab_type": "text"
      },
      "source": [
        "<a href=\"https://colab.research.google.com/github/nsk31512/terver/blob/hometask4/%D0%A2%D0%B5%D1%80%D0%B2%D0%B5%D1%80_%D0%94%D0%B74.ipynb\" target=\"_parent\"><img src=\"https://colab.research.google.com/assets/colab-badge.svg\" alt=\"Open In Colab\"/></a>"
      ]
    },
    {
      "cell_type": "markdown",
      "source": [
        "#1. \n",
        "Случайная непрерывная величина A имеет равномерное распределение на промежутке (200, 800].\n",
        "Найдите ее среднее значение и дисперсию.\n"
      ],
      "metadata": {
        "id": "Fp893DKEJGc6"
      }
    },
    {
      "cell_type": "code",
      "execution_count": 1,
      "metadata": {
        "colab": {
          "base_uri": "https://localhost:8080/"
        },
        "id": "qW7rKVciIw4I",
        "outputId": "6b5aaadb-cb12-4c23-e806-55f80a9290ab"
      },
      "outputs": [
        {
          "output_type": "stream",
          "name": "stdout",
          "text": [
            "500.0 30000.0\n"
          ]
        }
      ],
      "source": [
        "M_x = (200 + 800) / 2\n",
        "D_x = ((800 - 200)**2) / 12\n",
        "print(M_x, D_x)"
      ]
    },
    {
      "cell_type": "markdown",
      "source": [
        "Ответ: Среднее значение равно 500, дисперсия равна 30000"
      ],
      "metadata": {
        "id": "7N_PfXFHJxoZ"
      }
    },
    {
      "cell_type": "markdown",
      "source": [
        "#2. \n",
        "О случайной непрерывной равномерно распределенной величине B известно, что ее дисперсия равна 0.2.\n",
        "Можно ли найти правую границу величины B и ее среднее значение зная, что левая граница равна 0.5?\n",
        "Если да, найдите ее.\n"
      ],
      "metadata": {
        "id": "sdzXS-z3J7Cx"
      }
    },
    {
      "cell_type": "markdown",
      "source": [
        "Из формулы $D(X)=\\frac{(b-a)^2}{12}$ получаем, что правая граница равномерного распределения равна $a=b-\\sqrt{12D(X)}$"
      ],
      "metadata": {
        "id": "xL26X9FaKSLZ"
      }
    },
    {
      "cell_type": "code",
      "source": [
        "import math"
      ],
      "metadata": {
        "id": "hBWB0GYZLSSR"
      },
      "execution_count": 2,
      "outputs": []
    },
    {
      "cell_type": "code",
      "source": [
        "a_ = 0.5 - math.sqrt(12*0.2)\n",
        "a_"
      ],
      "metadata": {
        "colab": {
          "base_uri": "https://localhost:8080/"
        },
        "id": "Y4NeIqjbJgXi",
        "outputId": "55312a4e-d486-475c-b6f9-776e5117ec81"
      },
      "execution_count": 3,
      "outputs": [
        {
          "output_type": "execute_result",
          "data": {
            "text/plain": [
              "-1.0491933384829668"
            ]
          },
          "metadata": {},
          "execution_count": 3
        }
      ]
    },
    {
      "cell_type": "code",
      "source": [
        "#Среднее значение\n",
        "M_x = (-1.05+0.5) / 2\n",
        "M_x"
      ],
      "metadata": {
        "colab": {
          "base_uri": "https://localhost:8080/"
        },
        "id": "dp-880SCLZTN",
        "outputId": "b1c0db26-6bc9-49c1-c229-517a22a15f1e"
      },
      "execution_count": 4,
      "outputs": [
        {
          "output_type": "execute_result",
          "data": {
            "text/plain": [
              "-0.275"
            ]
          },
          "metadata": {},
          "execution_count": 4
        }
      ]
    },
    {
      "cell_type": "markdown",
      "source": [
        "Ответ: Правая граница равна -1,05, среднее значение равно -0,275."
      ],
      "metadata": {
        "id": "zumTtoU8Lmjy"
      }
    },
    {
      "cell_type": "markdown",
      "source": [
        "#3. \n",
        "Непрерывная случайная величина X распределена нормально и задана плотностью распределения\n",
        "$f(x) = \\frac{1}{4  \\sqrt{2\\pi}} * \\frac{e^{-(x+2)^2}}{32}$.\n",
        "Найдите:\n",
        "а). M(X)\n",
        "б). D(X)\n",
        "в). std(X) (среднее квадратичное отклонение)\n"
      ],
      "metadata": {
        "id": "XGPq_cKbTap5"
      }
    },
    {
      "cell_type": "markdown",
      "source": [
        "Ответ: M(X) = -2, D(X) = 16, std(x) = 4"
      ],
      "metadata": {
        "id": "PaQY1qoWVoza"
      }
    },
    {
      "cell_type": "markdown",
      "source": [
        "#4. \n",
        "Рост взрослого населения города X имеет нормальное распределение.\n",
        "Причем, средний рост равен 174 см, а среднее квадратичное отклонение равно 8 см.\n",
        "Какова вероятность того, что случайным образом выбранный взрослый человек имеет рост:\n",
        "а). больше 182 см\n",
        "б). больше 190 см\n",
        "в). от 166 см до 190 см\n",
        "г). от 166 см до 182 см\n",
        "д). от 158 см до 190 см\n",
        "е). не выше 150 см или не ниже 190 см\n",
        "ё). не выше 150 см или не ниже 198 см\n",
        "ж). ниже 166 см.\n"
      ],
      "metadata": {
        "id": "ODnw2nPUV1Xp"
      }
    },
    {
      "cell_type": "markdown",
      "source": [
        "Вероятность определяем по таблице накопления нормального распределения"
      ],
      "metadata": {
        "id": "EK5ppFz-W8S5"
      }
    },
    {
      "cell_type": "code",
      "source": [
        "#а). больше 182 см\n",
        "Z = (182 - 174) / 8\n",
        "Z"
      ],
      "metadata": {
        "colab": {
          "base_uri": "https://localhost:8080/"
        },
        "id": "KO7dToQeV1Hp",
        "outputId": "6581ca9d-bf87-40d5-b6d5-f670ddbb86f2"
      },
      "execution_count": 6,
      "outputs": [
        {
          "output_type": "execute_result",
          "data": {
            "text/plain": [
              "1.0"
            ]
          },
          "metadata": {},
          "execution_count": 6
        }
      ]
    },
    {
      "cell_type": "code",
      "source": [
        "P_X_more_182 = 1-0.84134\n",
        "P_X_more_182"
      ],
      "metadata": {
        "colab": {
          "base_uri": "https://localhost:8080/"
        },
        "id": "QXowFvoyW2gJ",
        "outputId": "bb82102c-f215-4f02-fe21-9d5b1890d32b"
      },
      "execution_count": 15,
      "outputs": [
        {
          "output_type": "execute_result",
          "data": {
            "text/plain": [
              "0.15866000000000002"
            ]
          },
          "metadata": {},
          "execution_count": 15
        }
      ]
    },
    {
      "cell_type": "code",
      "source": [
        "#б). больше 190 см\n",
        "Z = (190 - 174) / 8\n",
        "Z"
      ],
      "metadata": {
        "colab": {
          "base_uri": "https://localhost:8080/"
        },
        "id": "kqqFZs6DXZNm",
        "outputId": "7f532d28-4404-468e-c717-6cd92a22ee88"
      },
      "execution_count": 8,
      "outputs": [
        {
          "output_type": "execute_result",
          "data": {
            "text/plain": [
              "2.0"
            ]
          },
          "metadata": {},
          "execution_count": 8
        }
      ]
    },
    {
      "cell_type": "code",
      "source": [
        "P_X_more_190 = 1-0.97725\n",
        "P_X_more_190"
      ],
      "metadata": {
        "colab": {
          "base_uri": "https://localhost:8080/"
        },
        "id": "P51jUxhZXeS4",
        "outputId": "4d90ed4a-6a49-43a4-fc0e-e8f7bacbb210"
      },
      "execution_count": 16,
      "outputs": [
        {
          "output_type": "execute_result",
          "data": {
            "text/plain": [
              "0.022750000000000048"
            ]
          },
          "metadata": {},
          "execution_count": 16
        }
      ]
    },
    {
      "cell_type": "code",
      "source": [
        "#в). от 166 см до 190 см\n",
        "Z = (160 - 174) / 8\n",
        "Z"
      ],
      "metadata": {
        "colab": {
          "base_uri": "https://localhost:8080/"
        },
        "id": "oScMJpSrXji7",
        "outputId": "880043c6-7ef7-4798-a7f6-dcd51e68221b"
      },
      "execution_count": 10,
      "outputs": [
        {
          "output_type": "execute_result",
          "data": {
            "text/plain": [
              "-1.75"
            ]
          },
          "metadata": {},
          "execution_count": 10
        }
      ]
    },
    {
      "cell_type": "code",
      "source": [
        "P_X_less_160 = 0.04006\n",
        "P_X_less_190 = 0.97725\n",
        "P_X_beetween_160_190 = P_X_less_190 - P_X_less_160\n",
        "P_X_beetween_160_190"
      ],
      "metadata": {
        "colab": {
          "base_uri": "https://localhost:8080/"
        },
        "id": "R_ryC3YRXoms",
        "outputId": "98e4cf08-264d-4a26-8568-9a8d0fb1e01c"
      },
      "execution_count": 18,
      "outputs": [
        {
          "output_type": "execute_result",
          "data": {
            "text/plain": [
              "0.93719"
            ]
          },
          "metadata": {},
          "execution_count": 18
        }
      ]
    },
    {
      "cell_type": "code",
      "source": [
        "#г). от 166 см до 182 см\n",
        "Z = (166 - 174) / 8\n",
        "Z"
      ],
      "metadata": {
        "colab": {
          "base_uri": "https://localhost:8080/"
        },
        "id": "mM7TqphYYEDO",
        "outputId": "84b9ea3b-e2de-4fcc-af13-9ccb7c9453b1"
      },
      "execution_count": 19,
      "outputs": [
        {
          "output_type": "execute_result",
          "data": {
            "text/plain": [
              "-1.0"
            ]
          },
          "metadata": {},
          "execution_count": 19
        }
      ]
    },
    {
      "cell_type": "code",
      "source": [
        "P_X_less_166 = 0.15866\n",
        "P_X_less_182 = 0.84134\n",
        "P_X_beetween_166_182 = P_X_less_182 - P_X_less_166\n",
        "P_X_beetween_166_182"
      ],
      "metadata": {
        "colab": {
          "base_uri": "https://localhost:8080/"
        },
        "id": "kWbtFM2bYh-q",
        "outputId": "5a7aba97-57ea-4305-87da-a05e8a3721db"
      },
      "execution_count": 20,
      "outputs": [
        {
          "output_type": "execute_result",
          "data": {
            "text/plain": [
              "0.68268"
            ]
          },
          "metadata": {},
          "execution_count": 20
        }
      ]
    },
    {
      "cell_type": "code",
      "source": [
        "#д). от 158 см до 190 см\n",
        "Z = (158 - 174) / 8\n",
        "Z"
      ],
      "metadata": {
        "colab": {
          "base_uri": "https://localhost:8080/"
        },
        "id": "34gFaqRrYxyw",
        "outputId": "5b579c4c-a621-4d3d-ba9e-bf289595482e"
      },
      "execution_count": 21,
      "outputs": [
        {
          "output_type": "execute_result",
          "data": {
            "text/plain": [
              "-2.0"
            ]
          },
          "metadata": {},
          "execution_count": 21
        }
      ]
    },
    {
      "cell_type": "code",
      "source": [
        "P_X_less_158 = 0.02275\n",
        "P_X_beetween_158_190 = P_X_less_190 - P_X_less_158\n",
        "P_X_beetween_158_190"
      ],
      "metadata": {
        "colab": {
          "base_uri": "https://localhost:8080/"
        },
        "id": "ky3SXHFEY2g0",
        "outputId": "1248eb6d-a2b3-4c96-8e86-d79ba6d5119a"
      },
      "execution_count": 22,
      "outputs": [
        {
          "output_type": "execute_result",
          "data": {
            "text/plain": [
              "0.9544999999999999"
            ]
          },
          "metadata": {},
          "execution_count": 22
        }
      ]
    },
    {
      "cell_type": "code",
      "source": [
        "#е). не выше 150 см или не ниже 190 см\n",
        "Z = (150 - 174) / 8\n",
        "Z"
      ],
      "metadata": {
        "colab": {
          "base_uri": "https://localhost:8080/"
        },
        "id": "2LhfU0HPY_GQ",
        "outputId": "d5e977be-c9cb-4916-e6d4-9c24abfeb7f9"
      },
      "execution_count": 23,
      "outputs": [
        {
          "output_type": "execute_result",
          "data": {
            "text/plain": [
              "-3.0"
            ]
          },
          "metadata": {},
          "execution_count": 23
        }
      ]
    },
    {
      "cell_type": "code",
      "source": [
        "P_X_less_150 = 0.00135\n",
        "P_X_less_150_and_more_190 = P_X_less_150 + P_X_more_190\n",
        "P_X_less_150_and_more_190"
      ],
      "metadata": {
        "colab": {
          "base_uri": "https://localhost:8080/"
        },
        "id": "9YIZCc4sZFBb",
        "outputId": "47d70edb-f0f4-43d2-a4c1-d24ce353a640"
      },
      "execution_count": 25,
      "outputs": [
        {
          "output_type": "execute_result",
          "data": {
            "text/plain": [
              "0.02410000000000005"
            ]
          },
          "metadata": {},
          "execution_count": 25
        }
      ]
    },
    {
      "cell_type": "code",
      "source": [
        "#ё). не выше 150 см или не ниже 198 см\n",
        "Z = (198 - 174) / 8\n",
        "Z"
      ],
      "metadata": {
        "colab": {
          "base_uri": "https://localhost:8080/"
        },
        "id": "ggaOPvgJZTXh",
        "outputId": "ba7540b0-a103-4e54-9800-0ab27f69ce72"
      },
      "execution_count": 26,
      "outputs": [
        {
          "output_type": "execute_result",
          "data": {
            "text/plain": [
              "3.0"
            ]
          },
          "metadata": {},
          "execution_count": 26
        }
      ]
    },
    {
      "cell_type": "code",
      "source": [
        "P_X_more_198 = 1-0.99865\n",
        "P_X_more_198"
      ],
      "metadata": {
        "colab": {
          "base_uri": "https://localhost:8080/"
        },
        "id": "qhcs-vY6ZaE7",
        "outputId": "0d19459e-b7f1-4497-9202-43ca6267acef"
      },
      "execution_count": 27,
      "outputs": [
        {
          "output_type": "execute_result",
          "data": {
            "text/plain": [
              "0.0013499999999999623"
            ]
          },
          "metadata": {},
          "execution_count": 27
        }
      ]
    },
    {
      "cell_type": "code",
      "source": [
        "P_X_less_150_and_more_198 = P_X_less_150 + P_X_more_198\n",
        "P_X_less_150_and_more_198"
      ],
      "metadata": {
        "colab": {
          "base_uri": "https://localhost:8080/"
        },
        "id": "fsrYshnZZiKX",
        "outputId": "a4592c12-e459-429b-9e8f-8fb84308b2cb"
      },
      "execution_count": 28,
      "outputs": [
        {
          "output_type": "execute_result",
          "data": {
            "text/plain": [
              "0.0026999999999999624"
            ]
          },
          "metadata": {},
          "execution_count": 28
        }
      ]
    },
    {
      "cell_type": "code",
      "source": [
        "#ж). ниже 166 см.\n",
        "Z = (166 - 174) / 8\n",
        "Z"
      ],
      "metadata": {
        "colab": {
          "base_uri": "https://localhost:8080/"
        },
        "id": "9ZLOck5WZ2-a",
        "outputId": "0c4fbc69-4f2c-467a-85b0-a5774a63ad1d"
      },
      "execution_count": 29,
      "outputs": [
        {
          "output_type": "execute_result",
          "data": {
            "text/plain": [
              "-1.0"
            ]
          },
          "metadata": {},
          "execution_count": 29
        }
      ]
    },
    {
      "cell_type": "code",
      "source": [
        "P_X_less_166"
      ],
      "metadata": {
        "colab": {
          "base_uri": "https://localhost:8080/"
        },
        "id": "-D0zkKPhagiO",
        "outputId": "ad13adfd-a975-4c7d-b4c3-9280c871617a"
      },
      "execution_count": 30,
      "outputs": [
        {
          "output_type": "execute_result",
          "data": {
            "text/plain": [
              "0.15866"
            ]
          },
          "metadata": {},
          "execution_count": 30
        }
      ]
    },
    {
      "cell_type": "markdown",
      "source": [
        "#5. \n",
        "На сколько сигм (средних квадратичных отклонений) отклоняется рост человека, равный 190 см, от\n",
        "математического ожидания роста в популяции, в которой M(X) = 178 см и D(X) = 25 кв.см?\n"
      ],
      "metadata": {
        "id": "QHljzjbfaqxq"
      }
    },
    {
      "cell_type": "code",
      "source": [
        "(190 - 178) / math.sqrt(25)"
      ],
      "metadata": {
        "colab": {
          "base_uri": "https://localhost:8080/"
        },
        "id": "5IjaScctalOz",
        "outputId": "9062481c-688a-463e-eec8-95bd92e6c2bb"
      },
      "execution_count": 31,
      "outputs": [
        {
          "output_type": "execute_result",
          "data": {
            "text/plain": [
              "2.4"
            ]
          },
          "metadata": {},
          "execution_count": 31
        }
      ]
    },
    {
      "cell_type": "markdown",
      "source": [
        "Ответ: 2,4$σ$"
      ],
      "metadata": {
        "id": "AwcUts1za44Z"
      }
    }
  ]
}