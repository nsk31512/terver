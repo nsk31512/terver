{
  "nbformat": 4,
  "nbformat_minor": 0,
  "metadata": {
    "colab": {
      "name": "Задания 3, 4 к уроку 8.ipynb",
      "provenance": [],
      "authorship_tag": "ABX9TyM1cL/9jRRgSkWM51Q9eMvE",
      "include_colab_link": true
    },
    "kernelspec": {
      "name": "python3",
      "display_name": "Python 3"
    },
    "language_info": {
      "name": "python"
    }
  },
  "cells": [
    {
      "cell_type": "markdown",
      "metadata": {
        "id": "view-in-github",
        "colab_type": "text"
      },
      "source": [
        "<a href=\"https://colab.research.google.com/github/nsk31512/terver/blob/matan_task8/%D0%97%D0%B0%D0%B4%D0%B0%D0%BD%D0%B8%D1%8F_3%2C_4_%D0%BA_%D1%83%D1%80%D0%BE%D0%BA%D1%83_8.ipynb\" target=\"_parent\"><img src=\"https://colab.research.google.com/assets/colab-badge.svg\" alt=\"Open In Colab\"/></a>"
      ]
    },
    {
      "cell_type": "code",
      "source": [
        "from scipy.optimize import fsolve, broyden2\n",
        "import math, numpy as np\n",
        "\n",
        "def equations(p):\n",
        "    x, y = p\n",
        "    # Запись системы уравнения \n",
        "    return (x**2 - y**2 + 3 * x * y**3 - 2 * x**2 * y**2 + 2*x - 3*y - 5, 3 * y**3 - 2 * x**2 + 2* x**3 * y - 5 * x**2 * y**2+5)\n",
        "\n",
        "# Численное решение системы уравнений\n",
        "solv = set()\n",
        "for x0 in np.arange(-3.66, 1.28, 0.01):\n",
        "  for y0 in np.arange(-0.27, 1.66, 0.01):    \n",
        "      (x, y), info, ier, mesg =  fsolve(equations, (x0, y0), full_output=True)\n",
        "      if ier == 1:        \n",
        "        x = round(x, 3)        \n",
        "        y = round(y, 3)        \n",
        "        solv.add((x, y))\n",
        "            \n",
        "print (solv)\n",
        "        \n"
      ],
      "metadata": {
        "colab": {
          "base_uri": "https://localhost:8080/"
        },
        "id": "WFo07JJaV8eW",
        "outputId": "040660d0-c65d-40c2-aea0-851a1c53748d"
      },
      "execution_count": null,
      "outputs": [
        {
          "output_type": "stream",
          "name": "stdout",
          "text": [
            "{(-3.653, -0.275), (2.218, 0.61), (2.494, 0.708), (1.376, -0.175), (1.273, 1.662)}\n"
          ]
        }
      ]
    }
  ]
}