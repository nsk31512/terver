{
  "nbformat": 4,
  "nbformat_minor": 0,
  "metadata": {
    "colab": {
      "name": "Урок 4 ДЗ.ipynb",
      "provenance": [],
      "authorship_tag": "ABX9TyPLxVwizAt50p08MBr5ufGV",
      "include_colab_link": true
    },
    "kernelspec": {
      "name": "python3",
      "display_name": "Python 3"
    },
    "language_info": {
      "name": "python"
    }
  },
  "cells": [
    {
      "cell_type": "markdown",
      "metadata": {
        "id": "view-in-github",
        "colab_type": "text"
      },
      "source": [
        "<a href=\"https://colab.research.google.com/github/nsk31512/terver/blob/linalg_task4/%D0%A3%D1%80%D0%BE%D0%BA_4_%D0%94%D0%97.ipynb\" target=\"_parent\"><img src=\"https://colab.research.google.com/assets/colab-badge.svg\" alt=\"Open In Colab\"/></a>"
      ]
    },
    {
      "cell_type": "markdown",
      "source": [
        "#Часть 1. Задание 2"
      ],
      "metadata": {
        "id": "8fB5B5-2AVWl"
      }
    },
    {
      "cell_type": "code",
      "execution_count": 1,
      "metadata": {
        "id": "lO8GsSE8AEXp"
      },
      "outputs": [],
      "source": [
        "import numpy as np"
      ]
    },
    {
      "cell_type": "code",
      "source": [
        "def slau(matrix, matrix_extended):\n",
        "  #matrix - матрица коэффициентов\n",
        "  #matrix_extended - расширенная матрица\n",
        "  #n - число неизвестных\n",
        "\n",
        "  rank_matrix = np.linalg.matrix_rank(matrix)\n",
        "  rank_matrix_ext = np.linalg.matrix_rank(matrix_extended)\n",
        "  n = len(matrix[0])\n",
        "  \n",
        "  if rank_matrix == rank_matrix_ext and rank_matrix == n:\n",
        "    print(\"Система определена и имеет одно решение\")\n",
        "  elif rank_matrix == rank_matrix_ext and rank_matrix < n:\n",
        "    print(\"Система совместна и имеет бесконечно число решений\")\n",
        "  elif rank_matrix < rank_matrix_ext:\n",
        "    print(\"Система несовместна\")\n"
      ],
      "metadata": {
        "id": "irbU42z9BjBK"
      },
      "execution_count": 16,
      "outputs": []
    },
    {
      "cell_type": "code",
      "source": [
        "#2a)\n",
        "A = np.array([[3, -1, 1], [2, -5, -3], [1, 1, -1]])\n",
        "A_ext = np.array([[3, -1, 1, 4], [2, -5, -3, -17], [1, 1, -1, 0]])\n",
        "slau(A, A_ext)\n"
      ],
      "metadata": {
        "colab": {
          "base_uri": "https://localhost:8080/"
        },
        "id": "-YInD-V2AcCM",
        "outputId": "f89d5743-94ab-4333-8f00-290848c8cc01"
      },
      "execution_count": 13,
      "outputs": [
        {
          "output_type": "stream",
          "name": "stdout",
          "text": [
            "Система определена и имеет одно решение\n"
          ]
        }
      ]
    },
    {
      "cell_type": "code",
      "source": [
        "#2б)\n",
        "A = np.array([[2, -4, 6], [1, -2, 3], [3, -6, 9]])\n",
        "A_ext = np.array([[2, -4, 6, 1], [1, -2, 3, -2], [3, -6, 9, -5]])\n",
        "slau(A, A_ext)\n"
      ],
      "metadata": {
        "colab": {
          "base_uri": "https://localhost:8080/"
        },
        "id": "An94c5XwBCQ8",
        "outputId": "d5930240-ebf9-4619-dc36-6c7bc0780667"
      },
      "execution_count": 14,
      "outputs": [
        {
          "output_type": "stream",
          "name": "stdout",
          "text": [
            "Система несовместна\n"
          ]
        }
      ]
    },
    {
      "cell_type": "code",
      "source": [
        "#2в)\n",
        "A = np.array([[1, 2, 5], [3, 1, -8]])\n",
        "A_ext = np.array([[1, 2, 5, 4], [3, 1, -8, -2]])\n",
        "slau(A, A_ext)"
      ],
      "metadata": {
        "colab": {
          "base_uri": "https://localhost:8080/"
        },
        "id": "da32PbnOCByY",
        "outputId": "ee4d3385-8d84-4eeb-e684-631a482e2ed0"
      },
      "execution_count": 18,
      "outputs": [
        {
          "output_type": "stream",
          "name": "stdout",
          "text": [
            "Система совместна и имеет бесконечно число решений\n"
          ]
        }
      ]
    },
    {
      "cell_type": "markdown",
      "source": [
        "#Часть 1. Задание 3"
      ],
      "metadata": {
        "id": "vq57sxq2Ebcf"
      }
    },
    {
      "cell_type": "code",
      "source": [
        "A = np.array([[1, 3, -2, 4], [0, 5, 0, 1], [0, 0, 3, 0], [0, 0, 0, 2]])\n",
        "A_ext = np.array([[1, 3, -2, 4, 3], [0, 5, 0, 1, 2], [0, 0, 3, 0, 4], [0, 0, 0, 2, 1]])\n",
        "slau(A, A_ext)"
      ],
      "metadata": {
        "colab": {
          "base_uri": "https://localhost:8080/"
        },
        "id": "4eiSFm0sEeAg",
        "outputId": "d3d6e62d-0638-44f3-a96c-b4166129d8c2"
      },
      "execution_count": 21,
      "outputs": [
        {
          "output_type": "stream",
          "name": "stdout",
          "text": [
            "Система определена и имеет одно решение\n"
          ]
        }
      ]
    },
    {
      "cell_type": "markdown",
      "source": [
        "#Часть 2. Задание 2*"
      ],
      "metadata": {
        "id": "adHo3xw0uwds"
      }
    },
    {
      "cell_type": "code",
      "source": [
        "from scipy.linalg import lu"
      ],
      "metadata": {
        "id": "gC2pDOjRvM7R"
      },
      "execution_count": 124,
      "outputs": []
    },
    {
      "cell_type": "code",
      "source": [
        "A = np.array([[1, 2, 4], [2, 9, 12], [3, 26, 30]])\n",
        "p, l, u = lu(A)\n",
        "l"
      ],
      "metadata": {
        "colab": {
          "base_uri": "https://localhost:8080/"
        },
        "id": "lm7rECRJuvu0",
        "outputId": "1e5a1ea8-36ae-4c6c-a098-6474a77c38ab"
      },
      "execution_count": 125,
      "outputs": [
        {
          "output_type": "execute_result",
          "data": {
            "text/plain": [
              "array([[1.        , 0.        , 0.        ],\n",
              "       [0.66666667, 1.        , 0.        ],\n",
              "       [0.33333333, 0.8       , 1.        ]])"
            ]
          },
          "metadata": {},
          "execution_count": 125
        }
      ]
    },
    {
      "cell_type": "code",
      "source": [
        "A = np.array([[1, 1, 2, 4], [2, 5, 8, 9], [3, 18, 29, 18], [4, 22, 53, 33]])\n",
        "p, l, u = lu(A)\n",
        "l"
      ],
      "metadata": {
        "colab": {
          "base_uri": "https://localhost:8080/"
        },
        "id": "uCYyRDK4wUPb",
        "outputId": "ded5491f-1745-42d1-b969-2e347ec05e1f"
      },
      "execution_count": 130,
      "outputs": [
        {
          "output_type": "execute_result",
          "data": {
            "text/plain": [
              "array([[ 1.        ,  0.        ,  0.        ,  0.        ],\n",
              "       [ 0.5       ,  1.        ,  0.        ,  0.        ],\n",
              "       [ 0.75      , -0.25      ,  1.        ,  0.        ],\n",
              "       [ 0.25      ,  0.75      , -0.17073171,  1.        ]])"
            ]
          },
          "metadata": {},
          "execution_count": 130
        }
      ]
    },
    {
      "cell_type": "markdown",
      "source": [
        "#Часть 2. Задание 5*"
      ],
      "metadata": {
        "id": "deZGuHBJRyaH"
      }
    },
    {
      "cell_type": "markdown",
      "source": [
        "Пытался написать код к 5 задаче, но так и не смог найти что не так сделал"
      ],
      "metadata": {
        "id": "FJtMi4vbzhHV"
      }
    },
    {
      "cell_type": "code",
      "source": [
        "def lu_decompose(matrix):\n",
        "  #U - верхнетрегольная матрица\n",
        "  #L - нижнетреугольная матрица\n",
        "  #u - построчный список элементов для заполнения матрицы U\n",
        "  #l - построчный список элементов для заполнения матрицы L\n",
        "\n",
        "  U = list()\n",
        "  L = list()\n",
        "  for i in range(len(matrix)):\n",
        "    u = list()\n",
        "    l = list()\n",
        "    if i == 0:            \n",
        "      for j in range(len(matrix)):      \n",
        "        u.append(matrix[i][j])\n",
        "        l.append(matrix[j][i]/matrix[0][0])\n",
        "      U.append(u)\n",
        "      L.append(l)\n",
        "    else:\n",
        "      for j in range(len(matrix)):\n",
        "        if j == i:\n",
        "          l.append(1)          \n",
        "          foo_u = 0\n",
        "          for k in range(i):            \n",
        "            foo_u += matrix[i][k]*matrix[k][i]\n",
        "          u.append(matrix[i][j] - foo_u)\n",
        "            \n",
        "        elif j < i:\n",
        "          u.append(0)\n",
        "          l.append(0)\n",
        "          \n",
        "        elif j > i:                    \n",
        "          foo_u = 0\n",
        "          foo_l = 0\n",
        "          for k in range(i):            \n",
        "            foo_u += matrix[i][k]*matrix[k][i]\n",
        "            foo_l += matrix[k][i]*matrix[j][k]\n",
        "          u.append(matrix[i][j] - foo_u)\n",
        "          l.append((matrix[j][i] - foo_l)/matrix[0][0])          \n",
        "      U.append(u)\n",
        "      L.append(l)\n",
        "  U = np.array(U)\n",
        "  L = np.array(L).T\n",
        "  return U, L\n"
      ],
      "metadata": {
        "id": "hBJa2rSPSPwu"
      },
      "execution_count": 152,
      "outputs": []
    },
    {
      "cell_type": "code",
      "source": [
        "#матрица для проверки кода из методички\n",
        "A = np.array([[2, 1, -1], [4, -6, -2], [-2, 7, -3]])\n",
        "lu_decompose(A)\n",
        "print(U)\n",
        "print(L)\n"
      ],
      "metadata": {
        "colab": {
          "base_uri": "https://localhost:8080/"
        },
        "id": "IQTCb4JFR258",
        "outputId": "527c61fe-4890-4633-cc07-37df76c54f12"
      },
      "execution_count": 154,
      "outputs": [
        {
          "output_type": "stream",
          "name": "stdout",
          "text": [
            "[[  2   1  -1]\n",
            " [  0 -10  -4]\n",
            " [  0   0   9]]\n",
            "[[ 1.  0.  0.]\n",
            " [ 2.  1.  0.]\n",
            " [-1.  3.  1.]]\n"
          ]
        }
      ]
    },
    {
      "cell_type": "code",
      "source": [
        ""
      ],
      "metadata": {
        "id": "oB67Mi__ZPH3"
      },
      "execution_count": null,
      "outputs": []
    }
  ]
}