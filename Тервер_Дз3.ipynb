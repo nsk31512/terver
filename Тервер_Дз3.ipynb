{
  "nbformat": 4,
  "nbformat_minor": 0,
  "metadata": {
    "colab": {
      "name": "Тервер - Дз3.ipynb",
      "provenance": [],
      "collapsed_sections": [],
      "authorship_tag": "ABX9TyNV9LNJJLDqrsXco7KWAvhe",
      "include_colab_link": true
    },
    "kernelspec": {
      "name": "python3",
      "display_name": "Python 3"
    },
    "language_info": {
      "name": "python"
    }
  },
  "cells": [
    {
      "cell_type": "markdown",
      "metadata": {
        "id": "view-in-github",
        "colab_type": "text"
      },
      "source": [
        "<a href=\"https://colab.research.google.com/github/nsk31512/terver/blob/hometask3/%D0%A2%D0%B5%D1%80%D0%B2%D0%B5%D1%80_%D0%94%D0%B73.ipynb\" target=\"_parent\"><img src=\"https://colab.research.google.com/assets/colab-badge.svg\" alt=\"Open In Colab\"/></a>"
      ]
    },
    {
      "cell_type": "markdown",
      "source": [
        "#Задача 1\n",
        "\n",
        "Даны значения зарплат из выборки выпускников: \n",
        "```\n",
        "100, 80, 75, 77, 89, 33, 45, 25, 65, 17, 30, 230, 24, 57, 55, 70, 75, 65, 84, 90, 150\n",
        "```\n",
        "Используя только встроенные питоновские функции и структуры данных (т.е. без библиотек `numpy`, `pandas` и др.), посчитайте (несмещённое) среднее квадратичное отклонение для данной выборки."
      ],
      "metadata": {
        "id": "jueRd6ahDSbv"
      }
    },
    {
      "cell_type": "code",
      "source": [
        "import math"
      ],
      "metadata": {
        "id": "bRcf6JF2EzpG"
      },
      "execution_count": 15,
      "outputs": []
    },
    {
      "cell_type": "code",
      "source": [
        "arr = [100, 80, 75, 77, 89, 33, 45, 25, 65, 17, 30, 230, 24, 57, 55, 70, 75, 65, 84, 90, 150]\n",
        "print(arr)"
      ],
      "metadata": {
        "colab": {
          "base_uri": "https://localhost:8080/"
        },
        "id": "EQ1cabOVCh4D",
        "outputId": "f1161de4-4de9-4402-9e2b-6aeb66b0029c"
      },
      "execution_count": 9,
      "outputs": [
        {
          "output_type": "stream",
          "name": "stdout",
          "text": [
            "[100, 80, 75, 77, 89, 33, 45, 25, 65, 17, 30, 230, 24, 57, 55, 70, 75, 65, 84, 90, 150]\n"
          ]
        }
      ]
    },
    {
      "cell_type": "code",
      "source": [
        "sum = 0\n",
        "for el in arr:\n",
        "  sum += el\n",
        "\n",
        "avg = sum / len(arr)\n",
        "avg"
      ],
      "metadata": {
        "colab": {
          "base_uri": "https://localhost:8080/"
        },
        "id": "fXMcCxj6CmA-",
        "outputId": "a2816611-e34a-4140-83b0-e5bd6db814f6"
      },
      "execution_count": 12,
      "outputs": [
        {
          "output_type": "execute_result",
          "data": {
            "text/plain": [
              "73.14285714285714"
            ]
          },
          "metadata": {},
          "execution_count": 12
        }
      ]
    },
    {
      "cell_type": "code",
      "source": [
        "sum = 0\n",
        "for el in arr:\n",
        "  foo = (el - avg) ** 2  \n",
        "  sum += foo\n",
        "\n",
        "std = math.sqrt(sum / (len(arr) - 1))\n",
        "std"
      ],
      "metadata": {
        "colab": {
          "base_uri": "https://localhost:8080/"
        },
        "id": "C4_8TeC3DcLs",
        "outputId": "2346b876-640c-464d-acf7-83d991069ac9"
      },
      "execution_count": 17,
      "outputs": [
        {
          "output_type": "execute_result",
          "data": {
            "text/plain": [
              "47.34795213553139"
            ]
          },
          "metadata": {},
          "execution_count": 17
        }
      ]
    },
    {
      "cell_type": "markdown",
      "source": [
        "Среднее квадратичное отклонение данной выборки 47.348"
      ],
      "metadata": {
        "id": "9Ph1vttHE85T"
      }
    },
    {
      "cell_type": "markdown",
      "source": [
        "#Задача 2\n",
        "\n",
        "Найдите число выбросов в выборке из задачи 1. Для определения выбросов используйте методику как при построении \"усов\" в `boxplot`, однако, как и в задаче 1, пользоваться можно только встроенными функциями и структурами данных.\n"
      ],
      "metadata": {
        "id": "dLG-XmIOFG81"
      }
    },
    {
      "cell_type": "code",
      "source": [
        "len(arr) % 4"
      ],
      "metadata": {
        "colab": {
          "base_uri": "https://localhost:8080/"
        },
        "id": "tXTTIsv4DpEB",
        "outputId": "0063a7d8-ffc1-4bdb-8d62-da63cad2c77c"
      },
      "execution_count": 18,
      "outputs": [
        {
          "output_type": "execute_result",
          "data": {
            "text/plain": [
              "1"
            ]
          },
          "metadata": {},
          "execution_count": 18
        }
      ]
    },
    {
      "cell_type": "markdown",
      "source": [
        "На  4  не делится. Значит, квартиль придётся на конкретный элемент, а именно элемент с индексом length // 4 (опять же поскольку индексация происходит с нуля)."
      ],
      "metadata": {
        "id": "kBhyNVSDFuHb"
      }
    },
    {
      "cell_type": "code",
      "source": [
        "arr_sorted = sorted(arr)\n",
        "print(arr_sorted)"
      ],
      "metadata": {
        "colab": {
          "base_uri": "https://localhost:8080/"
        },
        "id": "V6ftSPewF5st",
        "outputId": "8c7ba8ef-26fa-40e7-9ff2-5f6bb196b233"
      },
      "execution_count": 23,
      "outputs": [
        {
          "output_type": "stream",
          "name": "stdout",
          "text": [
            "[17, 24, 25, 30, 33, 45, 55, 57, 65, 65, 70, 75, 75, 77, 80, 84, 89, 90, 100, 150, 230]\n"
          ]
        }
      ]
    },
    {
      "cell_type": "code",
      "source": [
        "#первый квартиль\n",
        "q1 = arr_sorted[len(arr) // 4]\n",
        "q1"
      ],
      "metadata": {
        "colab": {
          "base_uri": "https://localhost:8080/"
        },
        "id": "ofR4BljCFpWN",
        "outputId": "56b7ff71-2d56-4c33-b76f-9e41a9e97e62"
      },
      "execution_count": 28,
      "outputs": [
        {
          "output_type": "execute_result",
          "data": {
            "text/plain": [
              "45"
            ]
          },
          "metadata": {},
          "execution_count": 28
        }
      ]
    },
    {
      "cell_type": "code",
      "source": [
        "#третий квартиль\n",
        "q3 = arr_sorted[3 * len(arr) // 4]\n",
        "q3"
      ],
      "metadata": {
        "colab": {
          "base_uri": "https://localhost:8080/"
        },
        "id": "3VSUOrr_F0Vh",
        "outputId": "501bc699-08f5-488a-b442-20a646d73142"
      },
      "execution_count": 30,
      "outputs": [
        {
          "output_type": "execute_result",
          "data": {
            "text/plain": [
              "84"
            ]
          },
          "metadata": {},
          "execution_count": 30
        }
      ]
    },
    {
      "cell_type": "code",
      "source": [
        "iqr = q3 - q1\n",
        "boxplot_range = [q1 - 1.5 * iqr, q3 + 1.5 * iqr]\n",
        "boxplot_range"
      ],
      "metadata": {
        "colab": {
          "base_uri": "https://localhost:8080/"
        },
        "id": "Hn0_2eApGM9b",
        "outputId": "57c806f7-b009-4c0b-ffba-597b3fd64c0a"
      },
      "execution_count": 32,
      "outputs": [
        {
          "output_type": "execute_result",
          "data": {
            "text/plain": [
              "[-13.5, 142.5]"
            ]
          },
          "metadata": {},
          "execution_count": 32
        }
      ]
    },
    {
      "cell_type": "code",
      "source": [
        "count = 0\n",
        "for el in arr_sorted:\n",
        "  if el < boxplot_range[0] or el > boxplot_range[1]:\n",
        "    count += 1\n",
        "count"
      ],
      "metadata": {
        "colab": {
          "base_uri": "https://localhost:8080/"
        },
        "id": "OiczU8UNHByw",
        "outputId": "506e25be-490b-4bce-91bb-9461fb6247fb"
      },
      "execution_count": 33,
      "outputs": [
        {
          "output_type": "execute_result",
          "data": {
            "text/plain": [
              "2"
            ]
          },
          "metadata": {},
          "execution_count": 33
        }
      ]
    },
    {
      "cell_type": "markdown",
      "source": [
        "Ответ: 2 выброса"
      ],
      "metadata": {
        "id": "_A9aF5zFHZrF"
      }
    },
    {
      "cell_type": "markdown",
      "source": [
        "#Задача 3\n",
        "\n",
        "В университет на факультет A поступило 100 человек, на факультет B - 90 человек и на факультет C - 45 человек. Вероятность того, что студент с факультета A сдаст первую сессию, равна 0.6. Для студента с факультета B эта вероятность равна 0.7, а для студента с факультета C - 0.8. Случайным образом выбирается студент, сдавший первую сессию. Какое событие наиболее вероятно:\n",
        "1. студент учится на факультете A,\n",
        "2. студент учится на факультете B,\n",
        "3. студент учится на факультете C?\n",
        "\n",
        "_Замечание_: да, эта задача не на тему статистики, но тема важная, и её стоит иногда освежать в памяти."
      ],
      "metadata": {
        "id": "70DDlXPPHhBE"
      }
    },
    {
      "cell_type": "markdown",
      "source": [
        "Посчитаем математическое ожидание для каждого случая"
      ],
      "metadata": {
        "id": "nOmdRLKuVya4"
      }
    },
    {
      "cell_type": "code",
      "source": [
        "100 * 0.6"
      ],
      "metadata": {
        "colab": {
          "base_uri": "https://localhost:8080/"
        },
        "id": "hpeZQZJJTPkY",
        "outputId": "46da0cb8-7d51-4fe9-f480-ede736f69e17"
      },
      "execution_count": 68,
      "outputs": [
        {
          "output_type": "execute_result",
          "data": {
            "text/plain": [
              "60.0"
            ]
          },
          "metadata": {},
          "execution_count": 68
        }
      ]
    },
    {
      "cell_type": "code",
      "source": [
        "90 * 0.7"
      ],
      "metadata": {
        "colab": {
          "base_uri": "https://localhost:8080/"
        },
        "id": "oKO2nDf8TYLQ",
        "outputId": "244a0610-370e-4a5a-9ac9-20db80e2090c"
      },
      "execution_count": 69,
      "outputs": [
        {
          "output_type": "execute_result",
          "data": {
            "text/plain": [
              "62.99999999999999"
            ]
          },
          "metadata": {},
          "execution_count": 69
        }
      ]
    },
    {
      "cell_type": "code",
      "source": [
        "45 * 0.8"
      ],
      "metadata": {
        "colab": {
          "base_uri": "https://localhost:8080/"
        },
        "id": "xyUwvD89Tac4",
        "outputId": "b88829f5-07d8-482b-9e75-182e98b62989"
      },
      "execution_count": 70,
      "outputs": [
        {
          "output_type": "execute_result",
          "data": {
            "text/plain": [
              "36.0"
            ]
          },
          "metadata": {},
          "execution_count": 70
        }
      ]
    },
    {
      "cell_type": "markdown",
      "source": [
        "Наибольшее значение мат. ожидания для факультета В, значит событие выбрать студанта с факультета В наиболее вероятно"
      ],
      "metadata": {
        "id": "RkThoq6nWAy_"
      }
    }
  ]
}