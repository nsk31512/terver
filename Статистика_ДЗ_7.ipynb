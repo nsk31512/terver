{
  "nbformat": 4,
  "nbformat_minor": 0,
  "metadata": {
    "colab": {
      "name": "Статистика ДЗ 7.ipynb",
      "provenance": [],
      "authorship_tag": "ABX9TyMrfZxda9T6gB/OCj0uUQiA",
      "include_colab_link": true
    },
    "kernelspec": {
      "name": "python3",
      "display_name": "Python 3"
    },
    "language_info": {
      "name": "python"
    }
  },
  "cells": [
    {
      "cell_type": "markdown",
      "metadata": {
        "id": "view-in-github",
        "colab_type": "text"
      },
      "source": [
        "<a href=\"https://colab.research.google.com/github/nsk31512/terver/blob/hometask7/%D0%A1%D1%82%D0%B0%D1%82%D0%B8%D1%81%D1%82%D0%B8%D0%BA%D0%B0_%D0%94%D0%97_7.ipynb\" target=\"_parent\"><img src=\"https://colab.research.google.com/assets/colab-badge.svg\" alt=\"Open In Colab\"/></a>"
      ]
    },
    {
      "cell_type": "markdown",
      "source": [
        "#Задача 1\n",
        "Дана матрица объект-признак\n",
        "```\n",
        "X = [[ 1.22401313,  2.30868478,  3.03636353,  2.69287214],\n",
        "     [-0.18757272,  1.30337355,  5.12093014,  3.46363202],\n",
        "     [-0.81094525,  1.82463398,  5.79686488,  1.86159445],\n",
        "     [ 0.75129018,  2.67392052,  3.65529809,  1.66746094],\n",
        "     [ 0.00972362,  1.97367255,  2.50594319,  1.69755173],\n",
        "     [-0.62972637,  0.77750764,  2.84124027,  4.54410559],\n",
        "     [ 2.29536229,  1.81206697,  1.95026215,  1.51874636],\n",
        "     [ 0.0920418 ,  2.26971361,  7.47708735,  2.61081203],\n",
        "     [ 2.39252799,  3.17563985,  3.61420599,  5.10773362],\n",
        "     [ 0.54983815,  2.87988651,  1.65752765,  1.59635987]]\n",
        "```\n",
        "и значения целевой переменной\n",
        "```\n",
        "y = [ 9.26193358,  9.700363  ,  8.67214805,  8.74796974,  6.18689108,\n",
        "      7.53312713,  7.57643777, 12.44965478, 14.29010746,  6.68361218]\n",
        "```\n",
        "\n",
        "Подберите два признака (из четырёх) так, чтобы уровень линейной зависимости целевой переменной от значений этих признаков был максимальным. Другими словами, модель линейной регрессии на этих признаках должна давать наилучший результат. В качестве ответа запишите значение коэффициента детерминации для модели на этих признаках.\n",
        "\n"
      ],
      "metadata": {
        "id": "vtT80GbnEwCi"
      }
    },
    {
      "cell_type": "code",
      "source": [
        "import numpy as np\n",
        "import pandas as pd\n",
        "from sklearn.linear_model import LinearRegression\n",
        "from sklearn.metrics import r2_score"
      ],
      "metadata": {
        "id": "7T2-oWG8E_l6"
      },
      "execution_count": 6,
      "outputs": []
    },
    {
      "cell_type": "code",
      "execution_count": 7,
      "metadata": {
        "id": "cmIRbziDEqPD"
      },
      "outputs": [],
      "source": [
        "X = pd.DataFrame([[ 1.22401313,  2.30868478,  3.03636353,  2.69287214],\n",
        "     [-0.18757272,  1.30337355,  5.12093014,  3.46363202],\n",
        "     [-0.81094525,  1.82463398,  5.79686488,  1.86159445],\n",
        "     [ 0.75129018,  2.67392052,  3.65529809,  1.66746094],\n",
        "     [ 0.00972362,  1.97367255,  2.50594319,  1.69755173],\n",
        "     [-0.62972637,  0.77750764,  2.84124027,  4.54410559],\n",
        "     [ 2.29536229,  1.81206697,  1.95026215,  1.51874636],\n",
        "     [ 0.0920418 ,  2.26971361,  7.47708735,  2.61081203],\n",
        "     [ 2.39252799,  3.17563985,  3.61420599,  5.10773362],\n",
        "     [ 0.54983815,  2.87988651,  1.65752765,  1.59635987]])\n",
        "y = pd.DataFrame([ 9.26193358,  9.700363  ,  8.67214805,  8.74796974,  6.18689108,\n",
        "      7.53312713,  7.57643777, 12.44965478, 14.29010746,  6.68361218])"
      ]
    },
    {
      "cell_type": "code",
      "source": [
        "X"
      ],
      "metadata": {
        "colab": {
          "base_uri": "https://localhost:8080/",
          "height": 363
        },
        "id": "yp1a7xrnGF3a",
        "outputId": "728d9f28-6f26-49b5-aa89-d5ea08863e77"
      },
      "execution_count": 8,
      "outputs": [
        {
          "output_type": "execute_result",
          "data": {
            "text/html": [
              "\n",
              "  <div id=\"df-2d145547-6b1c-4131-bd46-915a4d66def5\">\n",
              "    <div class=\"colab-df-container\">\n",
              "      <div>\n",
              "<style scoped>\n",
              "    .dataframe tbody tr th:only-of-type {\n",
              "        vertical-align: middle;\n",
              "    }\n",
              "\n",
              "    .dataframe tbody tr th {\n",
              "        vertical-align: top;\n",
              "    }\n",
              "\n",
              "    .dataframe thead th {\n",
              "        text-align: right;\n",
              "    }\n",
              "</style>\n",
              "<table border=\"1\" class=\"dataframe\">\n",
              "  <thead>\n",
              "    <tr style=\"text-align: right;\">\n",
              "      <th></th>\n",
              "      <th>0</th>\n",
              "      <th>1</th>\n",
              "      <th>2</th>\n",
              "      <th>3</th>\n",
              "    </tr>\n",
              "  </thead>\n",
              "  <tbody>\n",
              "    <tr>\n",
              "      <th>0</th>\n",
              "      <td>1.224013</td>\n",
              "      <td>2.308685</td>\n",
              "      <td>3.036364</td>\n",
              "      <td>2.692872</td>\n",
              "    </tr>\n",
              "    <tr>\n",
              "      <th>1</th>\n",
              "      <td>-0.187573</td>\n",
              "      <td>1.303374</td>\n",
              "      <td>5.120930</td>\n",
              "      <td>3.463632</td>\n",
              "    </tr>\n",
              "    <tr>\n",
              "      <th>2</th>\n",
              "      <td>-0.810945</td>\n",
              "      <td>1.824634</td>\n",
              "      <td>5.796865</td>\n",
              "      <td>1.861594</td>\n",
              "    </tr>\n",
              "    <tr>\n",
              "      <th>3</th>\n",
              "      <td>0.751290</td>\n",
              "      <td>2.673921</td>\n",
              "      <td>3.655298</td>\n",
              "      <td>1.667461</td>\n",
              "    </tr>\n",
              "    <tr>\n",
              "      <th>4</th>\n",
              "      <td>0.009724</td>\n",
              "      <td>1.973673</td>\n",
              "      <td>2.505943</td>\n",
              "      <td>1.697552</td>\n",
              "    </tr>\n",
              "    <tr>\n",
              "      <th>5</th>\n",
              "      <td>-0.629726</td>\n",
              "      <td>0.777508</td>\n",
              "      <td>2.841240</td>\n",
              "      <td>4.544106</td>\n",
              "    </tr>\n",
              "    <tr>\n",
              "      <th>6</th>\n",
              "      <td>2.295362</td>\n",
              "      <td>1.812067</td>\n",
              "      <td>1.950262</td>\n",
              "      <td>1.518746</td>\n",
              "    </tr>\n",
              "    <tr>\n",
              "      <th>7</th>\n",
              "      <td>0.092042</td>\n",
              "      <td>2.269714</td>\n",
              "      <td>7.477087</td>\n",
              "      <td>2.610812</td>\n",
              "    </tr>\n",
              "    <tr>\n",
              "      <th>8</th>\n",
              "      <td>2.392528</td>\n",
              "      <td>3.175640</td>\n",
              "      <td>3.614206</td>\n",
              "      <td>5.107734</td>\n",
              "    </tr>\n",
              "    <tr>\n",
              "      <th>9</th>\n",
              "      <td>0.549838</td>\n",
              "      <td>2.879887</td>\n",
              "      <td>1.657528</td>\n",
              "      <td>1.596360</td>\n",
              "    </tr>\n",
              "  </tbody>\n",
              "</table>\n",
              "</div>\n",
              "      <button class=\"colab-df-convert\" onclick=\"convertToInteractive('df-2d145547-6b1c-4131-bd46-915a4d66def5')\"\n",
              "              title=\"Convert this dataframe to an interactive table.\"\n",
              "              style=\"display:none;\">\n",
              "        \n",
              "  <svg xmlns=\"http://www.w3.org/2000/svg\" height=\"24px\"viewBox=\"0 0 24 24\"\n",
              "       width=\"24px\">\n",
              "    <path d=\"M0 0h24v24H0V0z\" fill=\"none\"/>\n",
              "    <path d=\"M18.56 5.44l.94 2.06.94-2.06 2.06-.94-2.06-.94-.94-2.06-.94 2.06-2.06.94zm-11 1L8.5 8.5l.94-2.06 2.06-.94-2.06-.94L8.5 2.5l-.94 2.06-2.06.94zm10 10l.94 2.06.94-2.06 2.06-.94-2.06-.94-.94-2.06-.94 2.06-2.06.94z\"/><path d=\"M17.41 7.96l-1.37-1.37c-.4-.4-.92-.59-1.43-.59-.52 0-1.04.2-1.43.59L10.3 9.45l-7.72 7.72c-.78.78-.78 2.05 0 2.83L4 21.41c.39.39.9.59 1.41.59.51 0 1.02-.2 1.41-.59l7.78-7.78 2.81-2.81c.8-.78.8-2.07 0-2.86zM5.41 20L4 18.59l7.72-7.72 1.47 1.35L5.41 20z\"/>\n",
              "  </svg>\n",
              "      </button>\n",
              "      \n",
              "  <style>\n",
              "    .colab-df-container {\n",
              "      display:flex;\n",
              "      flex-wrap:wrap;\n",
              "      gap: 12px;\n",
              "    }\n",
              "\n",
              "    .colab-df-convert {\n",
              "      background-color: #E8F0FE;\n",
              "      border: none;\n",
              "      border-radius: 50%;\n",
              "      cursor: pointer;\n",
              "      display: none;\n",
              "      fill: #1967D2;\n",
              "      height: 32px;\n",
              "      padding: 0 0 0 0;\n",
              "      width: 32px;\n",
              "    }\n",
              "\n",
              "    .colab-df-convert:hover {\n",
              "      background-color: #E2EBFA;\n",
              "      box-shadow: 0px 1px 2px rgba(60, 64, 67, 0.3), 0px 1px 3px 1px rgba(60, 64, 67, 0.15);\n",
              "      fill: #174EA6;\n",
              "    }\n",
              "\n",
              "    [theme=dark] .colab-df-convert {\n",
              "      background-color: #3B4455;\n",
              "      fill: #D2E3FC;\n",
              "    }\n",
              "\n",
              "    [theme=dark] .colab-df-convert:hover {\n",
              "      background-color: #434B5C;\n",
              "      box-shadow: 0px 1px 3px 1px rgba(0, 0, 0, 0.15);\n",
              "      filter: drop-shadow(0px 1px 2px rgba(0, 0, 0, 0.3));\n",
              "      fill: #FFFFFF;\n",
              "    }\n",
              "  </style>\n",
              "\n",
              "      <script>\n",
              "        const buttonEl =\n",
              "          document.querySelector('#df-2d145547-6b1c-4131-bd46-915a4d66def5 button.colab-df-convert');\n",
              "        buttonEl.style.display =\n",
              "          google.colab.kernel.accessAllowed ? 'block' : 'none';\n",
              "\n",
              "        async function convertToInteractive(key) {\n",
              "          const element = document.querySelector('#df-2d145547-6b1c-4131-bd46-915a4d66def5');\n",
              "          const dataTable =\n",
              "            await google.colab.kernel.invokeFunction('convertToInteractive',\n",
              "                                                     [key], {});\n",
              "          if (!dataTable) return;\n",
              "\n",
              "          const docLinkHtml = 'Like what you see? Visit the ' +\n",
              "            '<a target=\"_blank\" href=https://colab.research.google.com/notebooks/data_table.ipynb>data table notebook</a>'\n",
              "            + ' to learn more about interactive tables.';\n",
              "          element.innerHTML = '';\n",
              "          dataTable['output_type'] = 'display_data';\n",
              "          await google.colab.output.renderOutput(dataTable, element);\n",
              "          const docLink = document.createElement('div');\n",
              "          docLink.innerHTML = docLinkHtml;\n",
              "          element.appendChild(docLink);\n",
              "        }\n",
              "      </script>\n",
              "    </div>\n",
              "  </div>\n",
              "  "
            ],
            "text/plain": [
              "          0         1         2         3\n",
              "0  1.224013  2.308685  3.036364  2.692872\n",
              "1 -0.187573  1.303374  5.120930  3.463632\n",
              "2 -0.810945  1.824634  5.796865  1.861594\n",
              "3  0.751290  2.673921  3.655298  1.667461\n",
              "4  0.009724  1.973673  2.505943  1.697552\n",
              "5 -0.629726  0.777508  2.841240  4.544106\n",
              "6  2.295362  1.812067  1.950262  1.518746\n",
              "7  0.092042  2.269714  7.477087  2.610812\n",
              "8  2.392528  3.175640  3.614206  5.107734\n",
              "9  0.549838  2.879887  1.657528  1.596360"
            ]
          },
          "metadata": {},
          "execution_count": 8
        }
      ]
    },
    {
      "cell_type": "code",
      "source": [
        "X0_1 = X[[0, 1]].values\n",
        "X0_2 = X[[0, 2]].values\n",
        "X0_3 = X[[0, 3]].values\n",
        "X1_2 = X[[1, 2]].values\n",
        "X1_3 = X[[1, 3]].values\n",
        "X2_3 = X[[2, 3]].values"
      ],
      "metadata": {
        "id": "wklyEJSvFIMH"
      },
      "execution_count": 13,
      "outputs": []
    },
    {
      "cell_type": "code",
      "source": [
        "def my_linear_regress(X, y):\n",
        "  lr = LinearRegression().fit(X, y)\n",
        "  z = lr.predict(X)\n",
        "  return r2_score(y, z)"
      ],
      "metadata": {
        "id": "wucsNpn_Hyba"
      },
      "execution_count": 23,
      "outputs": []
    },
    {
      "cell_type": "code",
      "source": [
        "print(my_linear_regress(X0_1, y),\n",
        "my_linear_regress(X0_2, y),\n",
        "my_linear_regress(X0_3, y),\n",
        "my_linear_regress(X1_2, y),\n",
        "my_linear_regress(X1_3, y),\n",
        "my_linear_regress(X2_3, y))"
      ],
      "metadata": {
        "colab": {
          "base_uri": "https://localhost:8080/"
        },
        "id": "-lwvbTh_HTNn",
        "outputId": "dacdc98c-901a-494a-b47d-6a0910dc48e6"
      },
      "execution_count": 27,
      "outputs": [
        {
          "output_type": "stream",
          "name": "stdout",
          "text": [
            "0.18113594742585204 0.7634246238793151 0.4532966783144078 0.547948273403901 0.6062055761129932 0.622441987650532\n"
          ]
        }
      ]
    },
    {
      "cell_type": "markdown",
      "source": [
        "Наилучший коэффициент детерминации равен 0,76342 на 0 и 2 столбцах признаков."
      ],
      "metadata": {
        "id": "KtG2XPHOIjGp"
      }
    },
    {
      "cell_type": "markdown",
      "source": [
        "#Задача 2\n",
        "Является ли значимым уравнение регрессии, полученное в предыдущей задаче? В качестве ответа запишите 1, если является, и 0 иначе."
      ],
      "metadata": {
        "id": "0-jdYW0fIsdJ"
      }
    },
    {
      "cell_type": "code",
      "source": [
        "R1 = 0.7634246238793151\n",
        "n = X.shape[0]\n",
        "m = 2\n",
        "\n",
        "k1 = m\n",
        "k2 = n - m - 1\n",
        "\n",
        "k1, k2"
      ],
      "metadata": {
        "colab": {
          "base_uri": "https://localhost:8080/"
        },
        "id": "K7S2_Ey5ID9z",
        "outputId": "415af356-0709-4fc6-f14d-b215a3699aa8"
      },
      "execution_count": 38,
      "outputs": [
        {
          "output_type": "execute_result",
          "data": {
            "text/plain": [
              "(2, 7)"
            ]
          },
          "metadata": {},
          "execution_count": 38
        }
      ]
    },
    {
      "cell_type": "code",
      "source": [
        "alpha = 0.05"
      ],
      "metadata": {
        "id": "jPjPVAm2JRjg"
      },
      "execution_count": 34,
      "outputs": []
    },
    {
      "cell_type": "code",
      "source": [
        "from scipy import stats"
      ],
      "metadata": {
        "id": "tsvTZFcgJSZS"
      },
      "execution_count": 35,
      "outputs": []
    },
    {
      "cell_type": "code",
      "source": [
        "t = stats.f.ppf(1 - alpha, k1, k2)\n",
        "t"
      ],
      "metadata": {
        "colab": {
          "base_uri": "https://localhost:8080/"
        },
        "id": "KNVjeoIcJxWv",
        "outputId": "ba571e4b-bbf0-4d54-a2b7-a9d4f8a67bdc"
      },
      "execution_count": 36,
      "outputs": [
        {
          "output_type": "execute_result",
          "data": {
            "text/plain": [
              "4.73741412777588"
            ]
          },
          "metadata": {},
          "execution_count": 36
        }
      ]
    },
    {
      "cell_type": "code",
      "source": [
        "F = (R1 / k1) / ((1 - R1) / k2)\n",
        "F"
      ],
      "metadata": {
        "colab": {
          "base_uri": "https://localhost:8080/"
        },
        "id": "bdrTJ6xSJ1sI",
        "outputId": "208e9fdd-b1bb-4375-ca49-fa878e875d5b"
      },
      "execution_count": 39,
      "outputs": [
        {
          "output_type": "execute_result",
          "data": {
            "text/plain": [
              "11.294439122922642"
            ]
          },
          "metadata": {},
          "execution_count": 39
        }
      ]
    },
    {
      "cell_type": "markdown",
      "source": [
        "1 - уравнение является значимым, т.к. статистика попала в критическую область"
      ],
      "metadata": {
        "id": "nqXXwDZIKB_J"
      }
    },
    {
      "cell_type": "markdown",
      "source": [
        "#Задача 3\n",
        "Для проведения A/B-тестирования сайта интернет-магазина были получены следующие данные: страница `A` была посещена 2509 раз, из них 77 закончились совершением покупки, страница `B` была посещена 1465 раз, 60 из них закончились совершением покупки. Является ли значимым отличие конверсии на страницах `A` и `B`? В качестве ответа запишите 1, если является, и 0 иначе.\n",
        "\n",
        "_Подсказка_. Реализуйте двухвыборочный t-тест. В качестве выборок здесь можно взять наборы меток совершения покупки (0 или 1) каждым посетителем."
      ],
      "metadata": {
        "id": "Ihw1VwcVKL5Q"
      }
    },
    {
      "cell_type": "markdown",
      "source": [
        "В качестве выборки примем число совершенных покупок в каждой выборке"
      ],
      "metadata": {
        "id": "MRLQU0-PK21h"
      }
    },
    {
      "cell_type": "code",
      "source": [
        "x_A = [1 for i in range(77)]\n",
        "x_A.extend([0 for i in range(2509-77)])\n",
        "x_A = np.array(x_A)\n",
        "n_A = x_A.shape[0]\n",
        "x_A, n_A"
      ],
      "metadata": {
        "colab": {
          "base_uri": "https://localhost:8080/"
        },
        "id": "31QFvDyPJ8Uj",
        "outputId": "65f7ecbd-0100-4a4a-aa63-fa36236481a9"
      },
      "execution_count": 57,
      "outputs": [
        {
          "output_type": "execute_result",
          "data": {
            "text/plain": [
              "(array([1, 1, 1, ..., 0, 0, 0]), 2509)"
            ]
          },
          "metadata": {},
          "execution_count": 57
        }
      ]
    },
    {
      "cell_type": "code",
      "source": [
        "x_B = [1 for i in range(60)]\n",
        "x_B.extend([0 for i in range(1465-60)])\n",
        "x_B = np.array(x_B)\n",
        "n_B = x_B.shape[0]\n",
        "x_B, n_B"
      ],
      "metadata": {
        "colab": {
          "base_uri": "https://localhost:8080/"
        },
        "id": "dDK4UbHiL8hW",
        "outputId": "28d7a726-2d0f-4202-da90-15b1dab90e83"
      },
      "execution_count": 58,
      "outputs": [
        {
          "output_type": "execute_result",
          "data": {
            "text/plain": [
              "(array([1, 1, 1, ..., 0, 0, 0]), 1465)"
            ]
          },
          "metadata": {},
          "execution_count": 58
        }
      ]
    },
    {
      "cell_type": "code",
      "source": [
        "sigma_A = x_A.std(ddof = 1)\n",
        "sigma_B = x_B.std(ddof = 1)\n",
        "sigma_A, sigma_B"
      ],
      "metadata": {
        "colab": {
          "base_uri": "https://localhost:8080/"
        },
        "id": "8-aOql5cM1ou",
        "outputId": "da72a093-51b0-4358-97dd-731e82aa1b3a"
      },
      "execution_count": 56,
      "outputs": [
        {
          "output_type": "execute_result",
          "data": {
            "text/plain": [
              "(0.17250951379621338, 0.19825513126725994)"
            ]
          },
          "metadata": {},
          "execution_count": 56
        }
      ]
    },
    {
      "cell_type": "code",
      "source": [
        "def sample_avg(sigma, n):\n",
        "  return sigma**2 / n"
      ],
      "metadata": {
        "id": "LXgoI5l3O8qg"
      },
      "execution_count": 64,
      "outputs": []
    },
    {
      "cell_type": "code",
      "source": [
        "sample_avg_A = sample_avg(sigma_A, n_A)\n",
        "sample_avg_B = sample_avg(sigma_B, n_B)\n",
        "sigma_delta = np.math.sqrt(sample_avg_A + sample_avg_B)\n",
        "sigma_delta"
      ],
      "metadata": {
        "colab": {
          "base_uri": "https://localhost:8080/"
        },
        "id": "ssxh8lGtNIEV",
        "outputId": "93a6cc87-eb3c-475c-fa37-8b8759912950"
      },
      "execution_count": 65,
      "outputs": [
        {
          "output_type": "execute_result",
          "data": {
            "text/plain": [
              "0.006220171278295827"
            ]
          },
          "metadata": {},
          "execution_count": 65
        }
      ]
    },
    {
      "cell_type": "code",
      "source": [
        "t = (x_A.mean() - x_B.mean()) / sigma_delta\n",
        "t"
      ],
      "metadata": {
        "colab": {
          "base_uri": "https://localhost:8080/"
        },
        "id": "EWdASQNYN70S",
        "outputId": "44ddd474-3d8e-417a-e6b9-6bb048c2ec8a"
      },
      "execution_count": 63,
      "outputs": [
        {
          "output_type": "execute_result",
          "data": {
            "text/plain": [
              "-1.6504551408398205"
            ]
          },
          "metadata": {},
          "execution_count": 63
        }
      ]
    },
    {
      "cell_type": "code",
      "source": [
        "df = (sigma_delta**4) / (sample_avg_A**2/(n_A - 1) + sample_avg_B**2/(n_B - 1))\n",
        "df"
      ],
      "metadata": {
        "colab": {
          "base_uri": "https://localhost:8080/"
        },
        "id": "_8Tn3ZQSOO-S",
        "outputId": "c39e2db6-f386-4d10-f610-ade3e93adff9"
      },
      "execution_count": 67,
      "outputs": [
        {
          "output_type": "execute_result",
          "data": {
            "text/plain": [
              "2732.8025644352124"
            ]
          },
          "metadata": {},
          "execution_count": 67
        }
      ]
    },
    {
      "cell_type": "code",
      "source": [
        "alpha = 0.05\n",
        "\n",
        "t1 = stats.t.ppf(alpha / 2, df=df)\n",
        "t2 = stats.t.ppf(1 - alpha / 2, df=df)\n",
        "t1, t2"
      ],
      "metadata": {
        "colab": {
          "base_uri": "https://localhost:8080/"
        },
        "id": "yFewmW5oPtQR",
        "outputId": "dd613615-a993-4fe2-e55e-59c7cd8fa3f8"
      },
      "execution_count": 69,
      "outputs": [
        {
          "output_type": "execute_result",
          "data": {
            "text/plain": [
              "(-1.9608324352746576, 1.9608324352746571)"
            ]
          },
          "metadata": {},
          "execution_count": 69
        }
      ]
    },
    {
      "cell_type": "code",
      "source": [
        "stats.ttest_ind(x_A, x_B, equal_var=False)"
      ],
      "metadata": {
        "colab": {
          "base_uri": "https://localhost:8080/"
        },
        "id": "aEceyf_2QywQ",
        "outputId": "13ff884b-ee9e-41b8-e458-b35d37063681"
      },
      "execution_count": 71,
      "outputs": [
        {
          "output_type": "execute_result",
          "data": {
            "text/plain": [
              "Ttest_indResult(statistic=-1.6504551408398205, pvalue=0.09896479217925898)"
            ]
          },
          "metadata": {},
          "execution_count": 71
        }
      ]
    },
    {
      "cell_type": "markdown",
      "source": [
        "0: Статистика не попадает в критическую область, гипотеза о равенстве мат. ожиданий принимается. Отличие конверсии не является значимым."
      ],
      "metadata": {
        "id": "qysbWUvqQPlA"
      }
    },
    {
      "cell_type": "code",
      "source": [
        ""
      ],
      "metadata": {
        "id": "5DfbXaUjQL29"
      },
      "execution_count": null,
      "outputs": []
    }
  ]
}