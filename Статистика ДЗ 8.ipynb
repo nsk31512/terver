{
 "cells": [
  {
   "cell_type": "markdown",
   "id": "fe278b17",
   "metadata": {},
   "source": [
    "# Задача 1"
   ]
  },
  {
   "cell_type": "markdown",
   "id": "d944b93a",
   "metadata": {},
   "source": [
    "Используя данные о хоккеистах (скачать можно здесь), проверьте, является ли среди хоккеистов из Финляндии, Норвегии и Дании значимым отличие: а) роста, б) BMI."
   ]
  },
  {
   "cell_type": "code",
   "execution_count": 77,
   "id": "bddb3043",
   "metadata": {
    "ExecuteTime": {
     "end_time": "2022-02-16T14:12:31.385740Z",
     "start_time": "2022-02-16T14:12:31.371727Z"
    }
   },
   "outputs": [],
   "source": [
    "import numpy as np\n",
    "import pandas as pd"
   ]
  },
  {
   "cell_type": "code",
   "execution_count": 78,
   "id": "790fe504",
   "metadata": {
    "ExecuteTime": {
     "end_time": "2022-02-16T14:12:31.417769Z",
     "start_time": "2022-02-16T14:12:31.386741Z"
    }
   },
   "outputs": [
    {
     "data": {
      "text/html": [
       "<div>\n",
       "<style scoped>\n",
       "    .dataframe tbody tr th:only-of-type {\n",
       "        vertical-align: middle;\n",
       "    }\n",
       "\n",
       "    .dataframe tbody tr th {\n",
       "        vertical-align: top;\n",
       "    }\n",
       "\n",
       "    .dataframe thead th {\n",
       "        text-align: right;\n",
       "    }\n",
       "</style>\n",
       "<table border=\"1\" class=\"dataframe\">\n",
       "  <thead>\n",
       "    <tr style=\"text-align: right;\">\n",
       "      <th></th>\n",
       "      <th>year</th>\n",
       "      <th>country</th>\n",
       "      <th>no</th>\n",
       "      <th>name</th>\n",
       "      <th>position</th>\n",
       "      <th>side</th>\n",
       "      <th>height</th>\n",
       "      <th>weight</th>\n",
       "      <th>birth</th>\n",
       "      <th>club</th>\n",
       "      <th>age</th>\n",
       "      <th>cohort</th>\n",
       "      <th>bmi</th>\n",
       "    </tr>\n",
       "  </thead>\n",
       "  <tbody>\n",
       "    <tr>\n",
       "      <th>0</th>\n",
       "      <td>2001</td>\n",
       "      <td>RUS</td>\n",
       "      <td>10</td>\n",
       "      <td>tverdovsky oleg</td>\n",
       "      <td>D</td>\n",
       "      <td>L</td>\n",
       "      <td>185</td>\n",
       "      <td>84.0</td>\n",
       "      <td>1976-05-18</td>\n",
       "      <td>anaheim mighty ducks</td>\n",
       "      <td>24.952772</td>\n",
       "      <td>1976</td>\n",
       "      <td>24.543462</td>\n",
       "    </tr>\n",
       "    <tr>\n",
       "      <th>1</th>\n",
       "      <td>2001</td>\n",
       "      <td>RUS</td>\n",
       "      <td>2</td>\n",
       "      <td>vichnevsky vitali</td>\n",
       "      <td>D</td>\n",
       "      <td>L</td>\n",
       "      <td>188</td>\n",
       "      <td>86.0</td>\n",
       "      <td>1980-03-18</td>\n",
       "      <td>anaheim mighty ducks</td>\n",
       "      <td>21.119781</td>\n",
       "      <td>1980</td>\n",
       "      <td>24.332277</td>\n",
       "    </tr>\n",
       "    <tr>\n",
       "      <th>2</th>\n",
       "      <td>2001</td>\n",
       "      <td>RUS</td>\n",
       "      <td>26</td>\n",
       "      <td>petrochinin evgeni</td>\n",
       "      <td>D</td>\n",
       "      <td>L</td>\n",
       "      <td>182</td>\n",
       "      <td>95.0</td>\n",
       "      <td>1976-02-07</td>\n",
       "      <td>severstal cherepovetal</td>\n",
       "      <td>25.229295</td>\n",
       "      <td>1976</td>\n",
       "      <td>28.680111</td>\n",
       "    </tr>\n",
       "    <tr>\n",
       "      <th>3</th>\n",
       "      <td>2001</td>\n",
       "      <td>RUS</td>\n",
       "      <td>28</td>\n",
       "      <td>zhdan alexander</td>\n",
       "      <td>D</td>\n",
       "      <td>R</td>\n",
       "      <td>178</td>\n",
       "      <td>85.0</td>\n",
       "      <td>1971-08-28</td>\n",
       "      <td>ak bars kazan</td>\n",
       "      <td>29.675565</td>\n",
       "      <td>1971</td>\n",
       "      <td>26.827421</td>\n",
       "    </tr>\n",
       "    <tr>\n",
       "      <th>4</th>\n",
       "      <td>2001</td>\n",
       "      <td>RUS</td>\n",
       "      <td>32</td>\n",
       "      <td>orekhovsky oleg</td>\n",
       "      <td>D</td>\n",
       "      <td>R</td>\n",
       "      <td>175</td>\n",
       "      <td>88.0</td>\n",
       "      <td>1977-11-03</td>\n",
       "      <td>dynamo moscow</td>\n",
       "      <td>23.490760</td>\n",
       "      <td>1977</td>\n",
       "      <td>28.734694</td>\n",
       "    </tr>\n",
       "  </tbody>\n",
       "</table>\n",
       "</div>"
      ],
      "text/plain": [
       "   year country  no                 name position side  height  weight  \\\n",
       "0  2001     RUS  10     tverdovsky oleg         D    L     185    84.0   \n",
       "1  2001     RUS   2   vichnevsky vitali         D    L     188    86.0   \n",
       "2  2001     RUS  26  petrochinin evgeni         D    L     182    95.0   \n",
       "3  2001     RUS  28     zhdan alexander         D    R     178    85.0   \n",
       "4  2001     RUS  32     orekhovsky oleg         D    R     175    88.0   \n",
       "\n",
       "        birth                     club        age  cohort        bmi  \n",
       "0  1976-05-18    anaheim mighty ducks   24.952772    1976  24.543462  \n",
       "1  1980-03-18    anaheim mighty ducks   21.119781    1980  24.332277  \n",
       "2  1976-02-07  severstal cherepovetal   25.229295    1976  28.680111  \n",
       "3  1971-08-28           ak bars kazan   29.675565    1971  26.827421  \n",
       "4  1977-11-03           dynamo moscow   23.490760    1977  28.734694  "
      ]
     },
     "execution_count": 78,
     "metadata": {},
     "output_type": "execute_result"
    }
   ],
   "source": [
    "df = pd.read_csv('./hockey_players.csv')\n",
    "df.head()"
   ]
  },
  {
   "cell_type": "code",
   "execution_count": 79,
   "id": "ae0966d2",
   "metadata": {
    "ExecuteTime": {
     "end_time": "2022-02-16T14:12:31.433783Z",
     "start_time": "2022-02-16T14:12:31.418771Z"
    }
   },
   "outputs": [
    {
     "data": {
      "text/html": [
       "<div>\n",
       "<style scoped>\n",
       "    .dataframe tbody tr th:only-of-type {\n",
       "        vertical-align: middle;\n",
       "    }\n",
       "\n",
       "    .dataframe tbody tr th {\n",
       "        vertical-align: top;\n",
       "    }\n",
       "\n",
       "    .dataframe thead th {\n",
       "        text-align: right;\n",
       "    }\n",
       "</style>\n",
       "<table border=\"1\" class=\"dataframe\">\n",
       "  <thead>\n",
       "    <tr style=\"text-align: right;\">\n",
       "      <th></th>\n",
       "      <th>year</th>\n",
       "      <th>country</th>\n",
       "      <th>no</th>\n",
       "      <th>name</th>\n",
       "      <th>position</th>\n",
       "      <th>side</th>\n",
       "      <th>height</th>\n",
       "      <th>weight</th>\n",
       "      <th>birth</th>\n",
       "      <th>club</th>\n",
       "      <th>age</th>\n",
       "      <th>cohort</th>\n",
       "      <th>bmi</th>\n",
       "    </tr>\n",
       "  </thead>\n",
       "  <tbody>\n",
       "    <tr>\n",
       "      <th>120</th>\n",
       "      <td>2001</td>\n",
       "      <td>FIN</td>\n",
       "      <td>2</td>\n",
       "      <td>kiprusoff marko</td>\n",
       "      <td>D</td>\n",
       "      <td>R</td>\n",
       "      <td>184</td>\n",
       "      <td>89.0</td>\n",
       "      <td>1972-06-06</td>\n",
       "      <td>ehc kloten</td>\n",
       "      <td>28.900753</td>\n",
       "      <td>1972</td>\n",
       "      <td>26.287807</td>\n",
       "    </tr>\n",
       "    <tr>\n",
       "      <th>121</th>\n",
       "      <td>2001</td>\n",
       "      <td>FIN</td>\n",
       "      <td>3</td>\n",
       "      <td>nummelin petteri</td>\n",
       "      <td>D</td>\n",
       "      <td>L</td>\n",
       "      <td>178</td>\n",
       "      <td>83.0</td>\n",
       "      <td>1972-11-25</td>\n",
       "      <td>columbus blue jackets</td>\n",
       "      <td>28.429843</td>\n",
       "      <td>1972</td>\n",
       "      <td>26.196187</td>\n",
       "    </tr>\n",
       "    <tr>\n",
       "      <th>122</th>\n",
       "      <td>2001</td>\n",
       "      <td>FIN</td>\n",
       "      <td>4</td>\n",
       "      <td>timonen kimmo</td>\n",
       "      <td>D</td>\n",
       "      <td>L</td>\n",
       "      <td>178</td>\n",
       "      <td>88.0</td>\n",
       "      <td>1975-03-18</td>\n",
       "      <td>nashville predators</td>\n",
       "      <td>26.121834</td>\n",
       "      <td>1975</td>\n",
       "      <td>27.774271</td>\n",
       "    </tr>\n",
       "    <tr>\n",
       "      <th>123</th>\n",
       "      <td>2001</td>\n",
       "      <td>FIN</td>\n",
       "      <td>40</td>\n",
       "      <td>niemi antti-jussi</td>\n",
       "      <td>D</td>\n",
       "      <td>L</td>\n",
       "      <td>185</td>\n",
       "      <td>87.0</td>\n",
       "      <td>1977-09-22</td>\n",
       "      <td>anaheim mighty ducks</td>\n",
       "      <td>23.605749</td>\n",
       "      <td>1977</td>\n",
       "      <td>25.420015</td>\n",
       "    </tr>\n",
       "    <tr>\n",
       "      <th>124</th>\n",
       "      <td>2001</td>\n",
       "      <td>FIN</td>\n",
       "      <td>5</td>\n",
       "      <td>salo sami</td>\n",
       "      <td>D</td>\n",
       "      <td>R</td>\n",
       "      <td>192</td>\n",
       "      <td>99.0</td>\n",
       "      <td>1974-09-02</td>\n",
       "      <td>ottawa senators</td>\n",
       "      <td>26.661191</td>\n",
       "      <td>1974</td>\n",
       "      <td>26.855469</td>\n",
       "    </tr>\n",
       "  </tbody>\n",
       "</table>\n",
       "</div>"
      ],
      "text/plain": [
       "     year country  no                name position side  height  weight  \\\n",
       "120  2001     FIN   2    kiprusoff marko         D    R     184    89.0   \n",
       "121  2001     FIN   3   nummelin petteri         D    L     178    83.0   \n",
       "122  2001     FIN   4      timonen kimmo         D    L     178    88.0   \n",
       "123  2001     FIN  40  niemi antti-jussi         D    L     185    87.0   \n",
       "124  2001     FIN   5          salo sami         D    R     192    99.0   \n",
       "\n",
       "          birth                    club        age  cohort        bmi  \n",
       "120  1972-06-06             ehc kloten   28.900753    1972  26.287807  \n",
       "121  1972-11-25  columbus blue jackets   28.429843    1972  26.196187  \n",
       "122  1975-03-18    nashville predators   26.121834    1975  27.774271  \n",
       "123  1977-09-22   anaheim mighty ducks   23.605749    1977  25.420015  \n",
       "124  1974-09-02        ottawa senators   26.661191    1974  26.855469  "
      ]
     },
     "execution_count": 79,
     "metadata": {},
     "output_type": "execute_result"
    }
   ],
   "source": [
    "df_fin = df[df['country'] == 'FIN']\n",
    "df_fin.head()"
   ]
  },
  {
   "cell_type": "code",
   "execution_count": 80,
   "id": "34cfcbb9",
   "metadata": {
    "ExecuteTime": {
     "end_time": "2022-02-16T14:12:31.449798Z",
     "start_time": "2022-02-16T14:12:31.434784Z"
    }
   },
   "outputs": [
    {
     "data": {
      "text/html": [
       "<div>\n",
       "<style scoped>\n",
       "    .dataframe tbody tr th:only-of-type {\n",
       "        vertical-align: middle;\n",
       "    }\n",
       "\n",
       "    .dataframe tbody tr th {\n",
       "        vertical-align: top;\n",
       "    }\n",
       "\n",
       "    .dataframe thead th {\n",
       "        text-align: right;\n",
       "    }\n",
       "</style>\n",
       "<table border=\"1\" class=\"dataframe\">\n",
       "  <thead>\n",
       "    <tr style=\"text-align: right;\">\n",
       "      <th></th>\n",
       "      <th>year</th>\n",
       "      <th>country</th>\n",
       "      <th>no</th>\n",
       "      <th>name</th>\n",
       "      <th>position</th>\n",
       "      <th>side</th>\n",
       "      <th>height</th>\n",
       "      <th>weight</th>\n",
       "      <th>birth</th>\n",
       "      <th>club</th>\n",
       "      <th>age</th>\n",
       "      <th>cohort</th>\n",
       "      <th>bmi</th>\n",
       "    </tr>\n",
       "  </thead>\n",
       "  <tbody>\n",
       "    <tr>\n",
       "      <th>237</th>\n",
       "      <td>2001</td>\n",
       "      <td>NOR</td>\n",
       "      <td>15</td>\n",
       "      <td>norstebo svein enok</td>\n",
       "      <td>D</td>\n",
       "      <td>L</td>\n",
       "      <td>179</td>\n",
       "      <td>86.0</td>\n",
       "      <td>1972-02-26</td>\n",
       "      <td>linkoping hc</td>\n",
       "      <td>29.177276</td>\n",
       "      <td>1972</td>\n",
       "      <td>26.840610</td>\n",
       "    </tr>\n",
       "    <tr>\n",
       "      <th>238</th>\n",
       "      <td>2001</td>\n",
       "      <td>NOR</td>\n",
       "      <td>17</td>\n",
       "      <td>knold martin</td>\n",
       "      <td>D</td>\n",
       "      <td>L</td>\n",
       "      <td>178</td>\n",
       "      <td>77.0</td>\n",
       "      <td>1976-01-14</td>\n",
       "      <td>linkoping hc</td>\n",
       "      <td>25.295003</td>\n",
       "      <td>1976</td>\n",
       "      <td>24.302487</td>\n",
       "    </tr>\n",
       "    <tr>\n",
       "      <th>239</th>\n",
       "      <td>2001</td>\n",
       "      <td>NOR</td>\n",
       "      <td>22</td>\n",
       "      <td>nilsen johnny</td>\n",
       "      <td>D</td>\n",
       "      <td>L</td>\n",
       "      <td>183</td>\n",
       "      <td>85.0</td>\n",
       "      <td>1975-01-27</td>\n",
       "      <td>frisk asker</td>\n",
       "      <td>26.258727</td>\n",
       "      <td>1975</td>\n",
       "      <td>25.381469</td>\n",
       "    </tr>\n",
       "    <tr>\n",
       "      <th>240</th>\n",
       "      <td>2001</td>\n",
       "      <td>NOR</td>\n",
       "      <td>23</td>\n",
       "      <td>trygg mats</td>\n",
       "      <td>D</td>\n",
       "      <td>R</td>\n",
       "      <td>179</td>\n",
       "      <td>80.0</td>\n",
       "      <td>1976-06-01</td>\n",
       "      <td>farjestads bk</td>\n",
       "      <td>24.914442</td>\n",
       "      <td>1976</td>\n",
       "      <td>24.968010</td>\n",
       "    </tr>\n",
       "    <tr>\n",
       "      <th>241</th>\n",
       "      <td>2001</td>\n",
       "      <td>NOR</td>\n",
       "      <td>24</td>\n",
       "      <td>wold ketil</td>\n",
       "      <td>D</td>\n",
       "      <td>L</td>\n",
       "      <td>183</td>\n",
       "      <td>93.0</td>\n",
       "      <td>1972-03-20</td>\n",
       "      <td>frisk asker</td>\n",
       "      <td>29.114305</td>\n",
       "      <td>1972</td>\n",
       "      <td>27.770313</td>\n",
       "    </tr>\n",
       "  </tbody>\n",
       "</table>\n",
       "</div>"
      ],
      "text/plain": [
       "     year country  no                  name position side  height  weight  \\\n",
       "237  2001     NOR  15  norstebo svein enok         D    L     179    86.0   \n",
       "238  2001     NOR  17         knold martin         D    L     178    77.0   \n",
       "239  2001     NOR  22        nilsen johnny         D    L     183    85.0   \n",
       "240  2001     NOR  23           trygg mats         D    R     179    80.0   \n",
       "241  2001     NOR  24           wold ketil         D    L     183    93.0   \n",
       "\n",
       "          birth            club        age  cohort        bmi  \n",
       "237  1972-02-26   linkoping hc   29.177276    1972  26.840610  \n",
       "238  1976-01-14   linkoping hc   25.295003    1976  24.302487  \n",
       "239  1975-01-27    frisk asker   26.258727    1975  25.381469  \n",
       "240  1976-06-01  farjestads bk   24.914442    1976  24.968010  \n",
       "241  1972-03-20    frisk asker   29.114305    1972  27.770313  "
      ]
     },
     "execution_count": 80,
     "metadata": {},
     "output_type": "execute_result"
    }
   ],
   "source": [
    "df_nor = df[df['country'] == 'NOR']\n",
    "df_nor.head()"
   ]
  },
  {
   "cell_type": "code",
   "execution_count": 81,
   "id": "bdea10c6",
   "metadata": {
    "ExecuteTime": {
     "end_time": "2022-02-16T14:12:31.465813Z",
     "start_time": "2022-02-16T14:12:31.450800Z"
    }
   },
   "outputs": [
    {
     "data": {
      "text/html": [
       "<div>\n",
       "<style scoped>\n",
       "    .dataframe tbody tr th:only-of-type {\n",
       "        vertical-align: middle;\n",
       "    }\n",
       "\n",
       "    .dataframe tbody tr th {\n",
       "        vertical-align: top;\n",
       "    }\n",
       "\n",
       "    .dataframe thead th {\n",
       "        text-align: right;\n",
       "    }\n",
       "</style>\n",
       "<table border=\"1\" class=\"dataframe\">\n",
       "  <thead>\n",
       "    <tr style=\"text-align: right;\">\n",
       "      <th></th>\n",
       "      <th>year</th>\n",
       "      <th>country</th>\n",
       "      <th>no</th>\n",
       "      <th>name</th>\n",
       "      <th>position</th>\n",
       "      <th>side</th>\n",
       "      <th>height</th>\n",
       "      <th>weight</th>\n",
       "      <th>birth</th>\n",
       "      <th>club</th>\n",
       "      <th>age</th>\n",
       "      <th>cohort</th>\n",
       "      <th>bmi</th>\n",
       "    </tr>\n",
       "  </thead>\n",
       "  <tbody>\n",
       "    <tr>\n",
       "      <th>878</th>\n",
       "      <td>2003</td>\n",
       "      <td>DEN</td>\n",
       "      <td>16</td>\n",
       "      <td>jensen dan</td>\n",
       "      <td>D</td>\n",
       "      <td>R</td>\n",
       "      <td>184</td>\n",
       "      <td>90.0</td>\n",
       "      <td>1969-01-16</td>\n",
       "      <td>herning ik</td>\n",
       "      <td>34.286105</td>\n",
       "      <td>1969</td>\n",
       "      <td>26.583176</td>\n",
       "    </tr>\n",
       "    <tr>\n",
       "      <th>879</th>\n",
       "      <td>2003</td>\n",
       "      <td>DEN</td>\n",
       "      <td>23</td>\n",
       "      <td>akesson frederik</td>\n",
       "      <td>D</td>\n",
       "      <td>L</td>\n",
       "      <td>192</td>\n",
       "      <td>94.0</td>\n",
       "      <td>1966-08-27</td>\n",
       "      <td>aalborg ik</td>\n",
       "      <td>36.676249</td>\n",
       "      <td>1966</td>\n",
       "      <td>25.499132</td>\n",
       "    </tr>\n",
       "    <tr>\n",
       "      <th>880</th>\n",
       "      <td>2003</td>\n",
       "      <td>DEN</td>\n",
       "      <td>25</td>\n",
       "      <td>andreasen andreas</td>\n",
       "      <td>D</td>\n",
       "      <td>L</td>\n",
       "      <td>184</td>\n",
       "      <td>96.0</td>\n",
       "      <td>1976-03-01</td>\n",
       "      <td>esbjerg ik</td>\n",
       "      <td>27.164956</td>\n",
       "      <td>1976</td>\n",
       "      <td>28.355388</td>\n",
       "    </tr>\n",
       "    <tr>\n",
       "      <th>881</th>\n",
       "      <td>2003</td>\n",
       "      <td>DEN</td>\n",
       "      <td>3</td>\n",
       "      <td>duus jesper</td>\n",
       "      <td>D</td>\n",
       "      <td>L</td>\n",
       "      <td>188</td>\n",
       "      <td>90.0</td>\n",
       "      <td>1967-11-24</td>\n",
       "      <td>herlev ik</td>\n",
       "      <td>35.433265</td>\n",
       "      <td>1967</td>\n",
       "      <td>25.464011</td>\n",
       "    </tr>\n",
       "    <tr>\n",
       "      <th>882</th>\n",
       "      <td>2003</td>\n",
       "      <td>DEN</td>\n",
       "      <td>5</td>\n",
       "      <td>nielsen daniel</td>\n",
       "      <td>D</td>\n",
       "      <td>R</td>\n",
       "      <td>180</td>\n",
       "      <td>74.0</td>\n",
       "      <td>1980-10-31</td>\n",
       "      <td>herning ik</td>\n",
       "      <td>22.496920</td>\n",
       "      <td>1980</td>\n",
       "      <td>22.839506</td>\n",
       "    </tr>\n",
       "  </tbody>\n",
       "</table>\n",
       "</div>"
      ],
      "text/plain": [
       "     year country  no                name position side  height  weight  \\\n",
       "878  2003     DEN  16         jensen dan         D    R     184    90.0   \n",
       "879  2003     DEN  23   akesson frederik         D    L     192    94.0   \n",
       "880  2003     DEN  25  andreasen andreas         D    L     184    96.0   \n",
       "881  2003     DEN   3        duus jesper         D    L     188    90.0   \n",
       "882  2003     DEN   5     nielsen daniel         D    R     180    74.0   \n",
       "\n",
       "          birth         club        age  cohort        bmi  \n",
       "878  1969-01-16  herning ik   34.286105    1969  26.583176  \n",
       "879  1966-08-27  aalborg ik   36.676249    1966  25.499132  \n",
       "880  1976-03-01  esbjerg ik   27.164956    1976  28.355388  \n",
       "881  1967-11-24   herlev ik   35.433265    1967  25.464011  \n",
       "882  1980-10-31  herning ik   22.496920    1980  22.839506  "
      ]
     },
     "execution_count": 81,
     "metadata": {},
     "output_type": "execute_result"
    }
   ],
   "source": [
    "df_den = df[df['country'] == 'DEN']\n",
    "df_den.head()"
   ]
  },
  {
   "cell_type": "markdown",
   "id": "40c054eb",
   "metadata": {},
   "source": [
    "## Проверка признака height"
   ]
  },
  {
   "cell_type": "code",
   "execution_count": 82,
   "id": "53b97df0",
   "metadata": {
    "ExecuteTime": {
     "end_time": "2022-02-16T14:12:31.481827Z",
     "start_time": "2022-02-16T14:12:31.466813Z"
    }
   },
   "outputs": [
    {
     "data": {
      "text/plain": [
       "(396, 290, 340)"
      ]
     },
     "execution_count": 82,
     "metadata": {},
     "output_type": "execute_result"
    }
   ],
   "source": [
    "fin_height = df_fin['height']\n",
    "nor_height = df_nor['height']\n",
    "den_height = df_den['height']\n",
    "\n",
    "n_fin = df_fin.shape[0]\n",
    "n_nor = df_nor.shape[0]\n",
    "n_den = df_den.shape[0]\n",
    "\n",
    "n_fin, n_nor, n_den"
   ]
  },
  {
   "cell_type": "code",
   "execution_count": 83,
   "id": "818ace1c",
   "metadata": {
    "ExecuteTime": {
     "end_time": "2022-02-16T14:12:31.497842Z",
     "start_time": "2022-02-16T14:12:31.482828Z"
    }
   },
   "outputs": [
    {
     "data": {
      "text/plain": [
       "(183.86868686868686, 182.94137931034481, 184.0)"
      ]
     },
     "execution_count": 83,
     "metadata": {},
     "output_type": "execute_result"
    }
   ],
   "source": [
    "#выборочные средние по каждой группе\n",
    "fin_height_mean = fin_height.mean()\n",
    "nor_height_mean = nor_height.mean()\n",
    "den_height_mean = den_height.mean()\n",
    "\n",
    "fin_height_mean, nor_height_mean, den_height_mean"
   ]
  },
  {
   "cell_type": "code",
   "execution_count": 84,
   "id": "adfa188b",
   "metadata": {
    "ExecuteTime": {
     "end_time": "2022-02-16T14:12:31.513856Z",
     "start_time": "2022-02-16T14:12:31.498843Z"
    },
    "scrolled": true
   },
   "outputs": [
    {
     "data": {
      "text/plain": [
       "(array([184, 178, 178, ..., 188, 186, 176], dtype=int64), (1026,))"
      ]
     },
     "execution_count": 84,
     "metadata": {},
     "output_type": "execute_result"
    }
   ],
   "source": [
    "players_height = np.concatenate([fin_height, nor_height, den_height])\n",
    "players_height, players_height.shape"
   ]
  },
  {
   "cell_type": "code",
   "execution_count": 85,
   "id": "a95200cd",
   "metadata": {
    "ExecuteTime": {
     "end_time": "2022-02-16T14:12:31.529871Z",
     "start_time": "2022-02-16T14:12:31.514857Z"
    }
   },
   "outputs": [
    {
     "data": {
      "text/plain": [
       "183.65009746588694"
      ]
     },
     "execution_count": 85,
     "metadata": {},
     "output_type": "execute_result"
    }
   ],
   "source": [
    "players_height_mean = players_height.mean()\n",
    "players_height_mean"
   ]
  },
  {
   "cell_type": "code",
   "execution_count": 86,
   "id": "1f362c3c",
   "metadata": {
    "ExecuteTime": {
     "end_time": "2022-02-16T14:12:31.545885Z",
     "start_time": "2022-02-16T14:12:31.530872Z"
    }
   },
   "outputs": [
    {
     "data": {
      "text/plain": [
       "(164.58301845706583, 16771.175165447577)"
      ]
     },
     "execution_count": 86,
     "metadata": {},
     "output_type": "execute_result"
    }
   ],
   "source": [
    "SS_b = n_fin * (fin_height_mean - players_height_mean) ** 2 + n_nor * (nor_height_mean - players_height_mean) ** 2 \n",
    "+ n_den * (den_height_mean - players_height_mean) ** 2\n",
    "\n",
    "SS_w = ((fin_height - fin_height_mean) ** 2).sum() + ((nor_height - nor_height_mean) ** 2).sum() \n",
    "+ ((den_height - den_height_mean) ** 2).sum()\n",
    "\n",
    "SS_b, SS_w"
   ]
  },
  {
   "cell_type": "code",
   "execution_count": 87,
   "id": "21798bb3",
   "metadata": {
    "ExecuteTime": {
     "end_time": "2022-02-16T14:12:31.561900Z",
     "start_time": "2022-02-16T14:12:31.546886Z"
    }
   },
   "outputs": [
    {
     "data": {
      "text/plain": [
       "(82.29150922853292, 16.394110621160877)"
      ]
     },
     "execution_count": 87,
     "metadata": {},
     "output_type": "execute_result"
    }
   ],
   "source": [
    "#найдем оценки дисперсии\n",
    "k = 3\n",
    "n = players_height.shape[0]\n",
    "\n",
    "k1 = k - 1\n",
    "k2 = n - k\n",
    "\n",
    "sigma2_b = SS_b / k1\n",
    "sigma2_w = SS_w / k2\n",
    "\n",
    "sigma2_b, sigma2_w"
   ]
  },
  {
   "cell_type": "code",
   "execution_count": 88,
   "id": "4936002d",
   "metadata": {
    "ExecuteTime": {
     "end_time": "2022-02-16T14:12:31.577915Z",
     "start_time": "2022-02-16T14:12:31.562901Z"
    }
   },
   "outputs": [
    {
     "data": {
      "text/plain": [
       "5.019577525743559"
      ]
     },
     "execution_count": 88,
     "metadata": {},
     "output_type": "execute_result"
    }
   ],
   "source": [
    "#статистика\n",
    "F = sigma2_b / sigma2_w\n",
    "F"
   ]
  },
  {
   "cell_type": "code",
   "execution_count": 89,
   "id": "db1d39b4",
   "metadata": {
    "ExecuteTime": {
     "end_time": "2022-02-16T14:12:31.593929Z",
     "start_time": "2022-02-16T14:12:31.578916Z"
    }
   },
   "outputs": [],
   "source": [
    "alpha = 0.05"
   ]
  },
  {
   "cell_type": "code",
   "execution_count": 90,
   "id": "53cea5ac",
   "metadata": {
    "ExecuteTime": {
     "end_time": "2022-02-16T14:12:31.609943Z",
     "start_time": "2022-02-16T14:12:31.594929Z"
    }
   },
   "outputs": [],
   "source": [
    "from scipy import stats"
   ]
  },
  {
   "cell_type": "code",
   "execution_count": 91,
   "id": "4550fedf",
   "metadata": {
    "ExecuteTime": {
     "end_time": "2022-02-16T14:12:31.625958Z",
     "start_time": "2022-02-16T14:12:31.610944Z"
    }
   },
   "outputs": [
    {
     "data": {
      "text/plain": [
       "3.0045220661840073"
      ]
     },
     "execution_count": 91,
     "metadata": {},
     "output_type": "execute_result"
    }
   ],
   "source": [
    "t = stats.f.ppf(1-alpha , k1, k2)\n",
    "t"
   ]
  },
  {
   "cell_type": "markdown",
   "id": "080b4072",
   "metadata": {},
   "source": [
    "Значение статистики попало в критическую область, значит различие в росте является статистически значимым"
   ]
  },
  {
   "cell_type": "markdown",
   "id": "5ccc2a7d",
   "metadata": {},
   "source": [
    "## Проверка признака bmi"
   ]
  },
  {
   "cell_type": "code",
   "execution_count": 92,
   "id": "c8c14d21",
   "metadata": {
    "ExecuteTime": {
     "end_time": "2022-02-16T14:12:31.641973Z",
     "start_time": "2022-02-16T14:12:31.627961Z"
    }
   },
   "outputs": [],
   "source": [
    "fin_bmi = df_fin['bmi']\n",
    "nor_bmi = df_nor['bmi']\n",
    "den_bmi = df_den['bmi']"
   ]
  },
  {
   "cell_type": "code",
   "execution_count": 93,
   "id": "954b1925",
   "metadata": {
    "ExecuteTime": {
     "end_time": "2022-02-16T14:12:31.657988Z",
     "start_time": "2022-02-16T14:12:31.643974Z"
    }
   },
   "outputs": [
    {
     "data": {
      "text/plain": [
       "(25.96327037123672, 25.961854727875714, 25.187289043708706)"
      ]
     },
     "execution_count": 93,
     "metadata": {},
     "output_type": "execute_result"
    }
   ],
   "source": [
    "#выборочные средние по каждой группе\n",
    "fin_bmi_mean = fin_bmi.mean()\n",
    "nor_bmi_mean = nor_bmi.mean()\n",
    "den_bmi_mean = den_bmi.mean()\n",
    "\n",
    "fin_bmi_mean, nor_bmi_mean, den_bmi_mean"
   ]
  },
  {
   "cell_type": "code",
   "execution_count": 94,
   "id": "681900a2",
   "metadata": {
    "ExecuteTime": {
     "end_time": "2022-02-16T14:12:31.674002Z",
     "start_time": "2022-02-16T14:12:31.658988Z"
    }
   },
   "outputs": [
    {
     "data": {
      "text/plain": [
       "array([26.28780718, 26.19618735, 27.77427093, ..., 22.63467632,\n",
       "       23.7021621 , 24.21229339])"
      ]
     },
     "execution_count": 94,
     "metadata": {},
     "output_type": "execute_result"
    }
   ],
   "source": [
    "players_bmi = np.concatenate([fin_bmi, nor_bmi, den_bmi])\n",
    "players_bmi"
   ]
  },
  {
   "cell_type": "code",
   "execution_count": 95,
   "id": "50471c3b",
   "metadata": {
    "ExecuteTime": {
     "end_time": "2022-02-16T14:12:31.690016Z",
     "start_time": "2022-02-16T14:12:31.675003Z"
    }
   },
   "outputs": [
    {
     "data": {
      "text/plain": [
       "25.705722429780387"
      ]
     },
     "execution_count": 95,
     "metadata": {},
     "output_type": "execute_result"
    }
   ],
   "source": [
    "players_bmi_mean = players_bmi.mean()\n",
    "players_bmi_mean"
   ]
  },
  {
   "cell_type": "code",
   "execution_count": 96,
   "id": "5743c657",
   "metadata": {
    "ExecuteTime": {
     "end_time": "2022-02-16T14:12:31.706031Z",
     "start_time": "2022-02-16T14:12:31.691018Z"
    }
   },
   "outputs": [
    {
     "data": {
      "text/plain": [
       "(45.292141787766624, 1226.738630417893)"
      ]
     },
     "execution_count": 96,
     "metadata": {},
     "output_type": "execute_result"
    }
   ],
   "source": [
    "SS_b = n_fin * (fin_bmi_mean - players_bmi_mean) ** 2 + n_nor * (nor_bmi_mean - players_bmi_mean) ** 2 \n",
    "+ n_den * (den_bmi_mean - players_bmi_mean) ** 2\n",
    "\n",
    "SS_w = ((fin_bmi - fin_bmi_mean) ** 2).sum() + ((nor_bmi - nor_bmi_mean) ** 2).sum() \n",
    "+ ((den_bmi - den_bmi_mean) ** 2).sum()\n",
    "\n",
    "SS_b, SS_w"
   ]
  },
  {
   "cell_type": "code",
   "execution_count": 97,
   "id": "2c8aff10",
   "metadata": {
    "ExecuteTime": {
     "end_time": "2022-02-16T14:12:31.722046Z",
     "start_time": "2022-02-16T14:12:31.707032Z"
    }
   },
   "outputs": [
    {
     "data": {
      "text/plain": [
       "(22.646070893883312, 1.1991579964984291)"
      ]
     },
     "execution_count": 97,
     "metadata": {},
     "output_type": "execute_result"
    }
   ],
   "source": [
    "sigma2_b = SS_b / k1\n",
    "sigma2_w = SS_w / k2\n",
    "\n",
    "sigma2_b, sigma2_w"
   ]
  },
  {
   "cell_type": "code",
   "execution_count": 98,
   "id": "aacbdcbe",
   "metadata": {
    "ExecuteTime": {
     "end_time": "2022-02-16T14:12:31.738059Z",
     "start_time": "2022-02-16T14:12:31.723047Z"
    }
   },
   "outputs": [
    {
     "data": {
      "text/plain": [
       "18.88497675870102"
      ]
     },
     "execution_count": 98,
     "metadata": {},
     "output_type": "execute_result"
    }
   ],
   "source": [
    "#статистика\n",
    "F = sigma2_b / sigma2_w\n",
    "F"
   ]
  },
  {
   "cell_type": "code",
   "execution_count": 99,
   "id": "1eb95b62",
   "metadata": {
    "ExecuteTime": {
     "end_time": "2022-02-16T14:12:31.754074Z",
     "start_time": "2022-02-16T14:12:31.739061Z"
    }
   },
   "outputs": [
    {
     "data": {
      "text/plain": [
       "3.0045220661840073"
      ]
     },
     "execution_count": 99,
     "metadata": {},
     "output_type": "execute_result"
    }
   ],
   "source": [
    "t = stats.f.ppf(1-alpha , k1, k2)\n",
    "t"
   ]
  },
  {
   "cell_type": "markdown",
   "id": "a7bca7a7",
   "metadata": {},
   "source": [
    "Значение статистики попало в критическую область, значит различие в росте является статистически значимым"
   ]
  }
 ],
 "metadata": {
  "kernelspec": {
   "display_name": "Python 3",
   "language": "python",
   "name": "python3"
  },
  "language_info": {
   "codemirror_mode": {
    "name": "ipython",
    "version": 3
   },
   "file_extension": ".py",
   "mimetype": "text/x-python",
   "name": "python",
   "nbconvert_exporter": "python",
   "pygments_lexer": "ipython3",
   "version": "3.8.8"
  },
  "nbTranslate": {
   "displayLangs": [
    "*"
   ],
   "hotkey": "alt-t",
   "langInMainMenu": true,
   "sourceLang": "en",
   "targetLang": "fr",
   "useGoogleTranslate": true
  },
  "toc": {
   "base_numbering": 1,
   "nav_menu": {},
   "number_sections": true,
   "sideBar": true,
   "skip_h1_title": false,
   "title_cell": "Table of Contents",
   "title_sidebar": "Contents",
   "toc_cell": false,
   "toc_position": {},
   "toc_section_display": true,
   "toc_window_display": true
  },
  "varInspector": {
   "cols": {
    "lenName": 16,
    "lenType": 16,
    "lenVar": 40
   },
   "kernels_config": {
    "python": {
     "delete_cmd_postfix": "",
     "delete_cmd_prefix": "del ",
     "library": "var_list.py",
     "varRefreshCmd": "print(var_dic_list())"
    },
    "r": {
     "delete_cmd_postfix": ") ",
     "delete_cmd_prefix": "rm(",
     "library": "var_list.r",
     "varRefreshCmd": "cat(var_dic_list()) "
    }
   },
   "types_to_exclude": [
    "module",
    "function",
    "builtin_function_or_method",
    "instance",
    "_Feature"
   ],
   "window_display": false
  }
 },
 "nbformat": 4,
 "nbformat_minor": 5
}
